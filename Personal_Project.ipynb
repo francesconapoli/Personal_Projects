{
 "cells": [
  {
   "cell_type": "markdown",
   "metadata": {},
   "source": [
    "# Personal Project - Francesco Napoli\n",
    "\n",
    "## Leonardo Merda Secca SEMPRE!\n",
    "\n"
   ]
  },
  {
   "cell_type": "code",
   "execution_count": 1,
   "metadata": {},
   "outputs": [
    {
     "name": "stderr",
     "output_type": "stream",
     "text": [
      "\n",
      "Attaching package: ‘dplyr’\n",
      "\n",
      "\n",
      "The following objects are masked from ‘package:stats’:\n",
      "\n",
      "    filter, lag\n",
      "\n",
      "\n",
      "The following objects are masked from ‘package:base’:\n",
      "\n",
      "    intersect, setdiff, setequal, union\n",
      "\n",
      "\n",
      "Registered S3 methods overwritten by 'ggplot2':\n",
      "  method         from \n",
      "  [.quosures     rlang\n",
      "  c.quosures     rlang\n",
      "  print.quosures rlang\n",
      "\n",
      "\n",
      "Attaching package: ‘gridExtra’\n",
      "\n",
      "\n",
      "The following object is masked from ‘package:dplyr’:\n",
      "\n",
      "    combine\n",
      "\n",
      "\n",
      "Loading required package: Matrix\n",
      "\n",
      "Loaded glmnet 4.0-2\n",
      "\n",
      "\n",
      "----------------------------------------------------------------------\n",
      "\n",
      "Your next step is to start H2O:\n",
      "    > h2o.init()\n",
      "\n",
      "For H2O package documentation, ask for help:\n",
      "    > ??h2o\n",
      "\n",
      "After starting H2O, you can use the Web UI at http://localhost:54321\n",
      "For more information visit http://docs.h2o.ai\n",
      "\n",
      "----------------------------------------------------------------------\n",
      "\n",
      "\n",
      "\n",
      "Attaching package: ‘h2o’\n",
      "\n",
      "\n",
      "The following objects are masked from ‘package:stats’:\n",
      "\n",
      "    cor, sd, var\n",
      "\n",
      "\n",
      "The following objects are masked from ‘package:base’:\n",
      "\n",
      "    &&, %*%, %in%, ||, apply, as.factor, as.numeric, colnames,\n",
      "    colnames<-, ifelse, is.character, is.factor, is.numeric, log,\n",
      "    log10, log1p, log2, round, signif, trunc\n",
      "\n",
      "\n"
     ]
    }
   ],
   "source": [
    "library(dplyr)\n",
    "library(ggplot2)\n",
    "library(gridExtra)\n",
    "#install.packages(\"glmnet\", repos='http://cran.us.r-project.org')\n",
    "library(glmnet)\n",
    "#install.packages(\"h2o\", repos='http://cran.us.r-project.org')\n",
    "library(h2o)"
   ]
  },
  {
   "cell_type": "code",
   "execution_count": 2,
   "metadata": {},
   "outputs": [],
   "source": [
    "data<-read.csv(\"summer-products-with-rating-and-performance_2020-08.csv\",\n",
    "               stringsAsFactors=FALSE)\n"
   ]
  },
  {
   "cell_type": "code",
   "execution_count": 4,
   "metadata": {},
   "outputs": [
    {
     "data": {
      "text/html": [
       "<table>\n",
       "<caption>A data.frame: 6 × 43</caption>\n",
       "<thead>\n",
       "\t<tr><th></th><th scope=col>title</th><th scope=col>title_orig</th><th scope=col>price</th><th scope=col>retail_price</th><th scope=col>currency_buyer</th><th scope=col>units_sold</th><th scope=col>uses_ad_boosts</th><th scope=col>rating</th><th scope=col>rating_count</th><th scope=col>rating_five_count</th><th scope=col>⋯</th><th scope=col>merchant_rating_count</th><th scope=col>merchant_rating</th><th scope=col>merchant_id</th><th scope=col>merchant_has_profile_picture</th><th scope=col>merchant_profile_picture</th><th scope=col>product_url</th><th scope=col>product_picture</th><th scope=col>product_id</th><th scope=col>theme</th><th scope=col>crawl_month</th></tr>\n",
       "\t<tr><th></th><th scope=col>&lt;chr&gt;</th><th scope=col>&lt;chr&gt;</th><th scope=col>&lt;dbl&gt;</th><th scope=col>&lt;int&gt;</th><th scope=col>&lt;chr&gt;</th><th scope=col>&lt;int&gt;</th><th scope=col>&lt;int&gt;</th><th scope=col>&lt;dbl&gt;</th><th scope=col>&lt;int&gt;</th><th scope=col>&lt;int&gt;</th><th scope=col>⋯</th><th scope=col>&lt;int&gt;</th><th scope=col>&lt;dbl&gt;</th><th scope=col>&lt;chr&gt;</th><th scope=col>&lt;int&gt;</th><th scope=col>&lt;chr&gt;</th><th scope=col>&lt;chr&gt;</th><th scope=col>&lt;chr&gt;</th><th scope=col>&lt;chr&gt;</th><th scope=col>&lt;chr&gt;</th><th scope=col>&lt;chr&gt;</th></tr>\n",
       "</thead>\n",
       "<tbody>\n",
       "\t<tr><th scope=row>1</th><td>2020 Summer Vintage Flamingo Print  Pajamas Set Casual Loose T Shirt Top And Elastic Shorts Women Sleepwear Night Wear Loungewear Sets                        </td><td>2020 Summer Vintage Flamingo Print  Pajamas Set Casual Loose T Shirt Top And Elastic Shorts Women Sleepwear Night Wear Loungewear Sets</td><td>16.00</td><td>14</td><td>EUR</td><td>  100</td><td>0</td><td>3.76</td><td>  54</td><td>  26</td><td>⋯</td><td>  568</td><td>4.128521</td><td>595097d6a26f6e070cb878d1</td><td>0</td><td></td><td>https://www.wish.com/c/5e9ae51d43d6a96e303acdb0</td><td>https://contestimg.wish.com/api/webimage/5e9ae51d43d6a96e303acdb0-medium.jpg</td><td>5e9ae51d43d6a96e303acdb0</td><td>summer</td><td>2020-08</td></tr>\n",
       "\t<tr><th scope=row>2</th><td>SSHOUSE Summer Casual Sleeveless Soirée Party Soirée sans manches Vêtements de plage sexy Mini robe femme wshC1612242400387A21                                </td><td>Women's Casual Summer Sleeveless Sexy Mini Dress                                                                                      </td><td> 8.00</td><td>22</td><td>EUR</td><td>20000</td><td>1</td><td>3.45</td><td>6135</td><td>2269</td><td>⋯</td><td>17752</td><td>3.899673</td><td>56458aa03a698c35c9050988</td><td>0</td><td></td><td>https://www.wish.com/c/58940d436a0d3d5da4e95a38</td><td>https://contestimg.wish.com/api/webimage/58940d436a0d3d5da4e95a38-medium.jpg</td><td>58940d436a0d3d5da4e95a38</td><td>summer</td><td>2020-08</td></tr>\n",
       "\t<tr><th scope=row>3</th><td>2020 Nouvelle Arrivée Femmes Printemps et Été Plage Porter Longue Mince Cardigan Ouvert Avant Kimono Vert Feuille Imprimé En Mousseline de Soie Cardigan S-5XL</td><td>2020 New Arrival Women Spring and Summer Beach Wear Long Thin Cardigan Open Front Kimono Green Leaf Printed Chiffon Cardigan S-5XL    </td><td> 8.00</td><td>43</td><td>EUR</td><td>  100</td><td>0</td><td>3.57</td><td>  14</td><td>   5</td><td>⋯</td><td>  295</td><td>3.989831</td><td>5d464a1ffdf7bc44ee933c65</td><td>0</td><td></td><td>https://www.wish.com/c/5ea10e2c617580260d55310a</td><td>https://contestimg.wish.com/api/webimage/5ea10e2c617580260d55310a-medium.jpg</td><td>5ea10e2c617580260d55310a</td><td>summer</td><td>2020-08</td></tr>\n",
       "\t<tr><th scope=row>4</th><td>Hot Summer Cool T-shirt pour les femmes Mode Tops Abeille Lettres imprimées Manches courtes O Neck Coton T-shirts Tops Tee Vêtements                          </td><td>Hot Summer Cool T Shirt for Women Fashion Tops Bee Printed Letters Short Sleeve O Neck Cotton T-shirts Tops Tee Clothing              </td><td> 8.00</td><td> 8</td><td>EUR</td><td> 5000</td><td>1</td><td>4.03</td><td> 579</td><td> 295</td><td>⋯</td><td>23832</td><td>4.020435</td><td>58cfdefdacb37b556efdff7c</td><td>0</td><td></td><td>https://www.wish.com/c/5cedf17ad1d44c52c59e4aca</td><td>https://contestimg.wish.com/api/webimage/5cedf17ad1d44c52c59e4aca-medium.jpg</td><td>5cedf17ad1d44c52c59e4aca</td><td>summer</td><td>2020-08</td></tr>\n",
       "\t<tr><th scope=row>5</th><td>Femmes Shorts d'été à lacets taille élastique lâche mince pantalon décontracté, plus la taille S-8XL                                                          </td><td>Women Summer Shorts Lace Up Elastic Waistband Loose Thin Casual Pants Plus Size S-8XL                                                 </td><td> 2.72</td><td> 3</td><td>EUR</td><td>  100</td><td>1</td><td>3.10</td><td>  20</td><td>   6</td><td>⋯</td><td>14482</td><td>4.001588</td><td>5ab3b592c3911a095ad5dadb</td><td>0</td><td></td><td>https://www.wish.com/c/5ebf5819ebac372b070b0e70</td><td>https://contestimg.wish.com/api/webimage/5ebf5819ebac372b070b0e70-medium.jpg</td><td>5ebf5819ebac372b070b0e70</td><td>summer</td><td>2020-08</td></tr>\n",
       "\t<tr><th scope=row>6</th><td>Plus la taille d'été femmes décontracté sans manches barboteuses combinaisons combinaison de couleur unie jarretelles pantalons lâche salopette               </td><td>Plus Size Summer Women Casual Sleeveless Rompers Jumpsuits Solid Color Suspender Ttrousers Loose Overalls                             </td><td> 3.92</td><td> 9</td><td>EUR</td><td>   10</td><td>0</td><td>5.00</td><td>   1</td><td>   1</td><td>⋯</td><td>   65</td><td>3.507692</td><td>5e4b9c3801ba9d210036fc5a</td><td>0</td><td></td><td>https://www.wish.com/c/5ec645bafd107a02279c8c54</td><td>https://contestimg.wish.com/api/webimage/5ec645bafd107a02279c8c54-medium.jpg</td><td>5ec645bafd107a02279c8c54</td><td>summer</td><td>2020-08</td></tr>\n",
       "</tbody>\n",
       "</table>\n"
      ],
      "text/latex": [
       "A data.frame: 6 × 43\n",
       "\\begin{tabular}{r|lllllllllllllllllllll}\n",
       "  & title & title\\_orig & price & retail\\_price & currency\\_buyer & units\\_sold & uses\\_ad\\_boosts & rating & rating\\_count & rating\\_five\\_count & ⋯ & merchant\\_rating\\_count & merchant\\_rating & merchant\\_id & merchant\\_has\\_profile\\_picture & merchant\\_profile\\_picture & product\\_url & product\\_picture & product\\_id & theme & crawl\\_month\\\\\n",
       "  & <chr> & <chr> & <dbl> & <int> & <chr> & <int> & <int> & <dbl> & <int> & <int> & ⋯ & <int> & <dbl> & <chr> & <int> & <chr> & <chr> & <chr> & <chr> & <chr> & <chr>\\\\\n",
       "\\hline\n",
       "\t1 & 2020 Summer Vintage Flamingo Print  Pajamas Set Casual Loose T Shirt Top And Elastic Shorts Women Sleepwear Night Wear Loungewear Sets                         & 2020 Summer Vintage Flamingo Print  Pajamas Set Casual Loose T Shirt Top And Elastic Shorts Women Sleepwear Night Wear Loungewear Sets & 16.00 & 14 & EUR &   100 & 0 & 3.76 &   54 &   26 & ⋯ &   568 & 4.128521 & 595097d6a26f6e070cb878d1 & 0 &  & https://www.wish.com/c/5e9ae51d43d6a96e303acdb0 & https://contestimg.wish.com/api/webimage/5e9ae51d43d6a96e303acdb0-medium.jpg & 5e9ae51d43d6a96e303acdb0 & summer & 2020-08\\\\\n",
       "\t2 & SSHOUSE Summer Casual Sleeveless Soirée Party Soirée sans manches Vêtements de plage sexy Mini robe femme wshC1612242400387A21                                 & Women's Casual Summer Sleeveless Sexy Mini Dress                                                                                       &  8.00 & 22 & EUR & 20000 & 1 & 3.45 & 6135 & 2269 & ⋯ & 17752 & 3.899673 & 56458aa03a698c35c9050988 & 0 &  & https://www.wish.com/c/58940d436a0d3d5da4e95a38 & https://contestimg.wish.com/api/webimage/58940d436a0d3d5da4e95a38-medium.jpg & 58940d436a0d3d5da4e95a38 & summer & 2020-08\\\\\n",
       "\t3 & 2020 Nouvelle Arrivée Femmes Printemps et Été Plage Porter Longue Mince Cardigan Ouvert Avant Kimono Vert Feuille Imprimé En Mousseline de Soie Cardigan S-5XL & 2020 New Arrival Women Spring and Summer Beach Wear Long Thin Cardigan Open Front Kimono Green Leaf Printed Chiffon Cardigan S-5XL     &  8.00 & 43 & EUR &   100 & 0 & 3.57 &   14 &    5 & ⋯ &   295 & 3.989831 & 5d464a1ffdf7bc44ee933c65 & 0 &  & https://www.wish.com/c/5ea10e2c617580260d55310a & https://contestimg.wish.com/api/webimage/5ea10e2c617580260d55310a-medium.jpg & 5ea10e2c617580260d55310a & summer & 2020-08\\\\\n",
       "\t4 & Hot Summer Cool T-shirt pour les femmes Mode Tops Abeille Lettres imprimées Manches courtes O Neck Coton T-shirts Tops Tee Vêtements                           & Hot Summer Cool T Shirt for Women Fashion Tops Bee Printed Letters Short Sleeve O Neck Cotton T-shirts Tops Tee Clothing               &  8.00 &  8 & EUR &  5000 & 1 & 4.03 &  579 &  295 & ⋯ & 23832 & 4.020435 & 58cfdefdacb37b556efdff7c & 0 &  & https://www.wish.com/c/5cedf17ad1d44c52c59e4aca & https://contestimg.wish.com/api/webimage/5cedf17ad1d44c52c59e4aca-medium.jpg & 5cedf17ad1d44c52c59e4aca & summer & 2020-08\\\\\n",
       "\t5 & Femmes Shorts d'été à lacets taille élastique lâche mince pantalon décontracté, plus la taille S-8XL                                                           & Women Summer Shorts Lace Up Elastic Waistband Loose Thin Casual Pants Plus Size S-8XL                                                  &  2.72 &  3 & EUR &   100 & 1 & 3.10 &   20 &    6 & ⋯ & 14482 & 4.001588 & 5ab3b592c3911a095ad5dadb & 0 &  & https://www.wish.com/c/5ebf5819ebac372b070b0e70 & https://contestimg.wish.com/api/webimage/5ebf5819ebac372b070b0e70-medium.jpg & 5ebf5819ebac372b070b0e70 & summer & 2020-08\\\\\n",
       "\t6 & Plus la taille d'été femmes décontracté sans manches barboteuses combinaisons combinaison de couleur unie jarretelles pantalons lâche salopette                & Plus Size Summer Women Casual Sleeveless Rompers Jumpsuits Solid Color Suspender Ttrousers Loose Overalls                              &  3.92 &  9 & EUR &    10 & 0 & 5.00 &    1 &    1 & ⋯ &    65 & 3.507692 & 5e4b9c3801ba9d210036fc5a & 0 &  & https://www.wish.com/c/5ec645bafd107a02279c8c54 & https://contestimg.wish.com/api/webimage/5ec645bafd107a02279c8c54-medium.jpg & 5ec645bafd107a02279c8c54 & summer & 2020-08\\\\\n",
       "\\end{tabular}\n"
      ],
      "text/markdown": [
       "\n",
       "A data.frame: 6 × 43\n",
       "\n",
       "| <!--/--> | title &lt;chr&gt; | title_orig &lt;chr&gt; | price &lt;dbl&gt; | retail_price &lt;int&gt; | currency_buyer &lt;chr&gt; | units_sold &lt;int&gt; | uses_ad_boosts &lt;int&gt; | rating &lt;dbl&gt; | rating_count &lt;int&gt; | rating_five_count &lt;int&gt; | ⋯ ⋯ | merchant_rating_count &lt;int&gt; | merchant_rating &lt;dbl&gt; | merchant_id &lt;chr&gt; | merchant_has_profile_picture &lt;int&gt; | merchant_profile_picture &lt;chr&gt; | product_url &lt;chr&gt; | product_picture &lt;chr&gt; | product_id &lt;chr&gt; | theme &lt;chr&gt; | crawl_month &lt;chr&gt; |\n",
       "|---|---|---|---|---|---|---|---|---|---|---|---|---|---|---|---|---|---|---|---|---|---|\n",
       "| 1 | 2020 Summer Vintage Flamingo Print  Pajamas Set Casual Loose T Shirt Top And Elastic Shorts Women Sleepwear Night Wear Loungewear Sets                         | 2020 Summer Vintage Flamingo Print  Pajamas Set Casual Loose T Shirt Top And Elastic Shorts Women Sleepwear Night Wear Loungewear Sets | 16.00 | 14 | EUR |   100 | 0 | 3.76 |   54 |   26 | ⋯ |   568 | 4.128521 | 595097d6a26f6e070cb878d1 | 0 | <!----> | https://www.wish.com/c/5e9ae51d43d6a96e303acdb0 | https://contestimg.wish.com/api/webimage/5e9ae51d43d6a96e303acdb0-medium.jpg | 5e9ae51d43d6a96e303acdb0 | summer | 2020-08 |\n",
       "| 2 | SSHOUSE Summer Casual Sleeveless Soirée Party Soirée sans manches Vêtements de plage sexy Mini robe femme wshC1612242400387A21                                 | Women's Casual Summer Sleeveless Sexy Mini Dress                                                                                       |  8.00 | 22 | EUR | 20000 | 1 | 3.45 | 6135 | 2269 | ⋯ | 17752 | 3.899673 | 56458aa03a698c35c9050988 | 0 | <!----> | https://www.wish.com/c/58940d436a0d3d5da4e95a38 | https://contestimg.wish.com/api/webimage/58940d436a0d3d5da4e95a38-medium.jpg | 58940d436a0d3d5da4e95a38 | summer | 2020-08 |\n",
       "| 3 | 2020 Nouvelle Arrivée Femmes Printemps et Été Plage Porter Longue Mince Cardigan Ouvert Avant Kimono Vert Feuille Imprimé En Mousseline de Soie Cardigan S-5XL | 2020 New Arrival Women Spring and Summer Beach Wear Long Thin Cardigan Open Front Kimono Green Leaf Printed Chiffon Cardigan S-5XL     |  8.00 | 43 | EUR |   100 | 0 | 3.57 |   14 |    5 | ⋯ |   295 | 3.989831 | 5d464a1ffdf7bc44ee933c65 | 0 | <!----> | https://www.wish.com/c/5ea10e2c617580260d55310a | https://contestimg.wish.com/api/webimage/5ea10e2c617580260d55310a-medium.jpg | 5ea10e2c617580260d55310a | summer | 2020-08 |\n",
       "| 4 | Hot Summer Cool T-shirt pour les femmes Mode Tops Abeille Lettres imprimées Manches courtes O Neck Coton T-shirts Tops Tee Vêtements                           | Hot Summer Cool T Shirt for Women Fashion Tops Bee Printed Letters Short Sleeve O Neck Cotton T-shirts Tops Tee Clothing               |  8.00 |  8 | EUR |  5000 | 1 | 4.03 |  579 |  295 | ⋯ | 23832 | 4.020435 | 58cfdefdacb37b556efdff7c | 0 | <!----> | https://www.wish.com/c/5cedf17ad1d44c52c59e4aca | https://contestimg.wish.com/api/webimage/5cedf17ad1d44c52c59e4aca-medium.jpg | 5cedf17ad1d44c52c59e4aca | summer | 2020-08 |\n",
       "| 5 | Femmes Shorts d'été à lacets taille élastique lâche mince pantalon décontracté, plus la taille S-8XL                                                           | Women Summer Shorts Lace Up Elastic Waistband Loose Thin Casual Pants Plus Size S-8XL                                                  |  2.72 |  3 | EUR |   100 | 1 | 3.10 |   20 |    6 | ⋯ | 14482 | 4.001588 | 5ab3b592c3911a095ad5dadb | 0 | <!----> | https://www.wish.com/c/5ebf5819ebac372b070b0e70 | https://contestimg.wish.com/api/webimage/5ebf5819ebac372b070b0e70-medium.jpg | 5ebf5819ebac372b070b0e70 | summer | 2020-08 |\n",
       "| 6 | Plus la taille d'été femmes décontracté sans manches barboteuses combinaisons combinaison de couleur unie jarretelles pantalons lâche salopette                | Plus Size Summer Women Casual Sleeveless Rompers Jumpsuits Solid Color Suspender Ttrousers Loose Overalls                              |  3.92 |  9 | EUR |    10 | 0 | 5.00 |    1 |    1 | ⋯ |    65 | 3.507692 | 5e4b9c3801ba9d210036fc5a | 0 | <!----> | https://www.wish.com/c/5ec645bafd107a02279c8c54 | https://contestimg.wish.com/api/webimage/5ec645bafd107a02279c8c54-medium.jpg | 5ec645bafd107a02279c8c54 | summer | 2020-08 |\n",
       "\n"
      ],
      "text/plain": [
       "  title                                                                                                                                                         \n",
       "1 2020 Summer Vintage Flamingo Print  Pajamas Set Casual Loose T Shirt Top And Elastic Shorts Women Sleepwear Night Wear Loungewear Sets                        \n",
       "2 SSHOUSE Summer Casual Sleeveless Soirée Party Soirée sans manches Vêtements de plage sexy Mini robe femme wshC1612242400387A21                                \n",
       "3 2020 Nouvelle Arrivée Femmes Printemps et Été Plage Porter Longue Mince Cardigan Ouvert Avant Kimono Vert Feuille Imprimé En Mousseline de Soie Cardigan S-5XL\n",
       "4 Hot Summer Cool T-shirt pour les femmes Mode Tops Abeille Lettres imprimées Manches courtes O Neck Coton T-shirts Tops Tee Vêtements                          \n",
       "5 Femmes Shorts d'été à lacets taille élastique lâche mince pantalon décontracté, plus la taille S-8XL                                                          \n",
       "6 Plus la taille d'été femmes décontracté sans manches barboteuses combinaisons combinaison de couleur unie jarretelles pantalons lâche salopette               \n",
       "  title_orig                                                                                                                            \n",
       "1 2020 Summer Vintage Flamingo Print  Pajamas Set Casual Loose T Shirt Top And Elastic Shorts Women Sleepwear Night Wear Loungewear Sets\n",
       "2 Women's Casual Summer Sleeveless Sexy Mini Dress                                                                                      \n",
       "3 2020 New Arrival Women Spring and Summer Beach Wear Long Thin Cardigan Open Front Kimono Green Leaf Printed Chiffon Cardigan S-5XL    \n",
       "4 Hot Summer Cool T Shirt for Women Fashion Tops Bee Printed Letters Short Sleeve O Neck Cotton T-shirts Tops Tee Clothing              \n",
       "5 Women Summer Shorts Lace Up Elastic Waistband Loose Thin Casual Pants Plus Size S-8XL                                                 \n",
       "6 Plus Size Summer Women Casual Sleeveless Rompers Jumpsuits Solid Color Suspender Ttrousers Loose Overalls                             \n",
       "  price retail_price currency_buyer units_sold uses_ad_boosts rating\n",
       "1 16.00 14           EUR              100      0              3.76  \n",
       "2  8.00 22           EUR            20000      1              3.45  \n",
       "3  8.00 43           EUR              100      0              3.57  \n",
       "4  8.00  8           EUR             5000      1              4.03  \n",
       "5  2.72  3           EUR              100      1              3.10  \n",
       "6  3.92  9           EUR               10      0              5.00  \n",
       "  rating_count rating_five_count ⋯ merchant_rating_count merchant_rating\n",
       "1   54           26              ⋯   568                 4.128521       \n",
       "2 6135         2269              ⋯ 17752                 3.899673       \n",
       "3   14            5              ⋯   295                 3.989831       \n",
       "4  579          295              ⋯ 23832                 4.020435       \n",
       "5   20            6              ⋯ 14482                 4.001588       \n",
       "6    1            1              ⋯    65                 3.507692       \n",
       "  merchant_id              merchant_has_profile_picture\n",
       "1 595097d6a26f6e070cb878d1 0                           \n",
       "2 56458aa03a698c35c9050988 0                           \n",
       "3 5d464a1ffdf7bc44ee933c65 0                           \n",
       "4 58cfdefdacb37b556efdff7c 0                           \n",
       "5 5ab3b592c3911a095ad5dadb 0                           \n",
       "6 5e4b9c3801ba9d210036fc5a 0                           \n",
       "  merchant_profile_picture product_url                                    \n",
       "1                          https://www.wish.com/c/5e9ae51d43d6a96e303acdb0\n",
       "2                          https://www.wish.com/c/58940d436a0d3d5da4e95a38\n",
       "3                          https://www.wish.com/c/5ea10e2c617580260d55310a\n",
       "4                          https://www.wish.com/c/5cedf17ad1d44c52c59e4aca\n",
       "5                          https://www.wish.com/c/5ebf5819ebac372b070b0e70\n",
       "6                          https://www.wish.com/c/5ec645bafd107a02279c8c54\n",
       "  product_picture                                                             \n",
       "1 https://contestimg.wish.com/api/webimage/5e9ae51d43d6a96e303acdb0-medium.jpg\n",
       "2 https://contestimg.wish.com/api/webimage/58940d436a0d3d5da4e95a38-medium.jpg\n",
       "3 https://contestimg.wish.com/api/webimage/5ea10e2c617580260d55310a-medium.jpg\n",
       "4 https://contestimg.wish.com/api/webimage/5cedf17ad1d44c52c59e4aca-medium.jpg\n",
       "5 https://contestimg.wish.com/api/webimage/5ebf5819ebac372b070b0e70-medium.jpg\n",
       "6 https://contestimg.wish.com/api/webimage/5ec645bafd107a02279c8c54-medium.jpg\n",
       "  product_id               theme  crawl_month\n",
       "1 5e9ae51d43d6a96e303acdb0 summer 2020-08    \n",
       "2 58940d436a0d3d5da4e95a38 summer 2020-08    \n",
       "3 5ea10e2c617580260d55310a summer 2020-08    \n",
       "4 5cedf17ad1d44c52c59e4aca summer 2020-08    \n",
       "5 5ebf5819ebac372b070b0e70 summer 2020-08    \n",
       "6 5ec645bafd107a02279c8c54 summer 2020-08    "
      ]
     },
     "metadata": {},
     "output_type": "display_data"
    }
   ],
   "source": [
    "head(data)"
   ]
  },
  {
   "cell_type": "markdown",
   "metadata": {},
   "source": [
    "It is important to visualize the data before deciding about which variable would be interesting to keep and which is not."
   ]
  },
  {
   "cell_type": "code",
   "execution_count": 6,
   "metadata": {},
   "outputs": [
    {
     "data": {
      "text/plain": [
       "\n",
       "                                               Quantité limitée ! \n",
       "                            1100                              472 \n",
       "Réduction sur les achats en gros \n",
       "                               1 "
      ]
     },
     "metadata": {},
     "output_type": "display_data"
    }
   ],
   "source": [
    "table(data$urgency_text)"
   ]
  },
  {
   "cell_type": "markdown",
   "metadata": {},
   "source": [
    "I start with the column \"urgency_text\". Using the table() function, I was able to understand how the different obs.\n",
    "are divided.\n",
    "I decide to transform the urgency text \"Quantité limitée!\" into a factor variable."
   ]
  },
  {
   "cell_type": "code",
   "execution_count": 7,
   "metadata": {},
   "outputs": [
    {
     "data": {
      "text/plain": [
       "\n",
       "   0    1 \n",
       "1101  472 "
      ]
     },
     "metadata": {},
     "output_type": "display_data"
    },
    {
     "name": "stdout",
     "output_type": "stream",
     "text": [
      " Factor w/ 2 levels \"0\",\"1\": 2 2 2 1 2 1 1 1 2 1 ...\n"
     ]
    }
   ],
   "source": [
    "data$urgency_text<-ifelse(data$urgency_text==\"Quantité limitée !\",1,0)\n",
    "table(data$urgency_text)\n",
    "data$urgency_text<-as.factor(data$urgency_text)\n",
    "str(data$urgency_text)"
   ]
  },
  {
   "cell_type": "code",
   "execution_count": 10,
   "metadata": {},
   "outputs": [
    {
     "data": {
      "text/plain": [
       "\n",
       "   95 % avis positifs (537 notes)  95 % avis positifs (6,719 notes) \n",
       "                                2                                 1 \n",
       "96 % avis positifs (10,622 notes)    97 % avis positifs (160 notes) \n",
       "                                1                                 1 \n",
       "   คำติชมเชิงบวก 82% (10,600 คะแนน)    คำติชมเชิงบวก 83% (32,168 คะแนน) \n",
       "                                1                                 1 "
      ]
     },
     "metadata": {},
     "output_type": "display_data"
    }
   ],
   "source": [
    "tail(table(data$merchant_info_subtitle))"
   ]
  },
  {
   "cell_type": "markdown",
   "metadata": {},
   "source": [
    "merchant_info_subtitle gives interesting information about the vendor info, the positive feedback\n",
    "I'm gonna try to store these info into a factor variable\n"
   ]
  },
  {
   "cell_type": "code",
   "execution_count": 11,
   "metadata": {},
   "outputs": [
    {
     "name": "stderr",
     "output_type": "stream",
     "text": [
      "Warning message in base::as.numeric(x):\n",
      "“NAs introduced by coercion”\n"
     ]
    },
    {
     "data": {
      "text/plain": [
       "infodata\n",
       " 33  53  56  59  61  65  67  68  70  71  73  74  75  76  77  78  79  80  81  82 \n",
       "  1   2   1   1   1   2   1   2   4   4  10   3   9   7  10  10  26  39  53  73 \n",
       " 83  84  85  86  87  88  89  90  91  92  93  94  95  96  97 100 \n",
       " 85 102 130 135 107 104  92  70  63  30  21  13  10   1   1   2 "
      ]
     },
     "metadata": {},
     "output_type": "display_data"
    },
    {
     "data": {
      "image/png": "[encoded data removed]",
      "text/plain": [
       "Plot with title “Histogram of infodata”"
      ]
     },
     "metadata": {
      "image/png": {
       "height": 420,
       "width": 420
      }
     },
     "output_type": "display_data"
    }
   ],
   "source": [
    "info<-strsplit(data$merchant_info_subtitle,\" \")\n",
    "infodata=list()\n",
    "for (i in 1:length(info)){\n",
    "  test=unlist(info[i])\n",
    "  test=test[1]\n",
    "  \n",
    "  if (length(test)<=2){\n",
    "    infodata[i]=test\n",
    "  }\n",
    "  if (length(test)>2){\n",
    "    infodata[i]=0\n",
    "  }\n",
    "}\n",
    "infodata=unlist(infodata)\n",
    "infodata=as.numeric(infodata)\n",
    "table(infodata)\n",
    "hist(infodata)"
   ]
  },
  {
   "cell_type": "code",
   "execution_count": null,
   "metadata": {},
   "outputs": [],
   "source": []
  }
 ],
 "metadata": {
  "kernelspec": {
   "display_name": "R",
   "language": "R",
   "name": "ir"
  },
  "language_info": {
   "codemirror_mode": "r",
   "file_extension": ".r",
   "mimetype": "text/x-r-source",
   "name": "R",
   "pygments_lexer": "r",
   "version": "3.6.3"
  }
 },
 "nbformat": 4,
 "nbformat_minor": 4
}
