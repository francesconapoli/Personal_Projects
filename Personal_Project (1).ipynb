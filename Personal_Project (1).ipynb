{
 "cells": [
  {
   "cell_type": "markdown",
   "metadata": {},
   "source": [
    "# Personal Project\n",
    "### Author: Francesco Napoli\n",
    "\n",
    "## Riassunto:  Leonardo Merda Secca SEMPRE!\n",
    "\n"
   ]
  },
  {
   "cell_type": "code",
   "execution_count": 1,
   "metadata": {},
   "outputs": [
    {
     "name": "stderr",
     "output_type": "stream",
     "text": [
      "\n",
      "Attaching package: 'dplyr'\n",
      "\n",
      "The following objects are masked from 'package:stats':\n",
      "\n",
      "    filter, lag\n",
      "\n",
      "The following objects are masked from 'package:base':\n",
      "\n",
      "    intersect, setdiff, setequal, union\n",
      "\n",
      "Registered S3 methods overwritten by 'ggplot2':\n",
      "  method         from \n",
      "  [.quosures     rlang\n",
      "  c.quosures     rlang\n",
      "  print.quosures rlang\n",
      "Warning message:\n",
      "\"package 'gridExtra' was built under R version 3.6.3\"\n",
      "Attaching package: 'gridExtra'\n",
      "\n",
      "The following object is masked from 'package:dplyr':\n",
      "\n",
      "    combine\n",
      "\n",
      "Warning message:\n",
      "\"package 'glmnet' was built under R version 3.6.3\"Loading required package: Matrix\n",
      "Loaded glmnet 4.0-2\n",
      "Warning message:\n",
      "\"package 'h2o' was built under R version 3.6.3\"\n",
      "----------------------------------------------------------------------\n",
      "\n",
      "Your next step is to start H2O:\n",
      "    > h2o.init()\n",
      "\n",
      "For H2O package documentation, ask for help:\n",
      "    > ??h2o\n",
      "\n",
      "After starting H2O, you can use the Web UI at http://localhost:54321\n",
      "For more information visit http://docs.h2o.ai\n",
      "\n",
      "----------------------------------------------------------------------\n",
      "\n",
      "\n",
      "Attaching package: 'h2o'\n",
      "\n",
      "The following objects are masked from 'package:stats':\n",
      "\n",
      "    cor, sd, var\n",
      "\n",
      "The following objects are masked from 'package:base':\n",
      "\n",
      "    %*%, %in%, &&, ||, apply, as.factor, as.numeric, colnames,\n",
      "    colnames<-, ifelse, is.character, is.factor, is.numeric, log,\n",
      "    log10, log1p, log2, round, signif, trunc\n",
      "\n",
      "Warning message:\n",
      "\"package 'stringr' was built under R version 3.6.3\""
     ]
    }
   ],
   "source": [
    "library(dplyr)\n",
    "library(ggplot2)\n",
    "#install.packages(\"gridExtra\", repos='http://cran.us.r-project.org')\n",
    "library(gridExtra)\n",
    "#install.packages(\"glmnet\", repos='http://cran.us.r-project.org')\n",
    "library(glmnet)\n",
    "#install.packages(\"h2o\", repos='http://cran.us.r-project.org')\n",
    "library(h2o)\n",
    "#install.packages(\"stringr\", repos='http://cran.us.r-project.org')\n",
    "library(stringr)"
   ]
  },
  {
   "cell_type": "code",
   "execution_count": 2,
   "metadata": {},
   "outputs": [],
   "source": [
    "data<-read.csv(\"summer-products-with-rating-and-performance_2020-08.csv\",\n",
    "               stringsAsFactors=FALSE)\n"
   ]
  },
  {
   "cell_type": "code",
   "execution_count": 3,
   "metadata": {},
   "outputs": [
    {
     "data": {
      "text/html": [
       "<table>\n",
       "<thead><tr><th scope=col>title</th><th scope=col>title_orig</th><th scope=col>price</th><th scope=col>retail_price</th><th scope=col>currency_buyer</th><th scope=col>units_sold</th><th scope=col>uses_ad_boosts</th><th scope=col>rating</th><th scope=col>rating_count</th><th scope=col>rating_five_count</th><th scope=col>...</th><th scope=col>merchant_rating_count</th><th scope=col>merchant_rating</th><th scope=col>merchant_id</th><th scope=col>merchant_has_profile_picture</th><th scope=col>merchant_profile_picture</th><th scope=col>product_url</th><th scope=col>product_picture</th><th scope=col>product_id</th><th scope=col>theme</th><th scope=col>crawl_month</th></tr></thead>\n",
       "<tbody>\n",
       "\t<tr><td>2020 Summer Vintage Flamingo Print  Pajamas Set Casual Loose T Shirt Top And Elastic Shorts Women Sleepwear Night Wear Loungewear Sets</td><td>2020 Summer Vintage Flamingo Print  Pajamas Set Casual Loose T Shirt Top And Elastic Shorts Women Sleepwear Night Wear Loungewear Sets</td><td>16                                                                                                                                    </td><td>14                                                                                                                                    </td><td>EUR                                                                                                                                   </td><td>  100                                                                                                                                 </td><td>0                                                                                                                                     </td><td>3.76                                                                                                                                  </td><td>  54                                                                                                                                  </td><td>  26                                                                                                                                  </td><td>...                                                                                                                                   </td><td>  568                                                                                                                                 </td><td>4.128521                                                                                                                              </td><td>595097d6a26f6e070cb878d1                                                                                                              </td><td>0                                                                                                                                     </td><td>                                                                                                                                      </td><td>https://www.wish.com/c/5e9ae51d43d6a96e303acdb0                                                                                       </td><td>https://contestimg.wish.com/api/webimage/5e9ae51d43d6a96e303acdb0-medium.jpg                                                          </td><td>5e9ae51d43d6a96e303acdb0                                                                                                              </td><td>summer                                                                                                                                </td><td>2020-08                                                                                                                               </td></tr>\n",
       "\t<tr><td>SSHOUSE Summer Casual Sleeveless SoirÃ©e Party SoirÃ©e sans manches VÃªtements de plage sexy Mini robe femme wshC1612242400387A21     </td><td>Women's Casual Summer Sleeveless Sexy Mini Dress                                                                                      </td><td> 8                                                                                                                                    </td><td>22                                                                                                                                    </td><td>EUR                                                                                                                                   </td><td>20000                                                                                                                                 </td><td>1                                                                                                                                     </td><td>3.45                                                                                                                                  </td><td>6135                                                                                                                                  </td><td>2269                                                                                                                                  </td><td>...                                                                                                                                   </td><td>17752                                                                                                                                 </td><td>3.899673                                                                                                                              </td><td>56458aa03a698c35c9050988                                                                                                              </td><td>0                                                                                                                                     </td><td>                                                                                                                                      </td><td>https://www.wish.com/c/58940d436a0d3d5da4e95a38                                                                                       </td><td>https://contestimg.wish.com/api/webimage/58940d436a0d3d5da4e95a38-medium.jpg                                                          </td><td>58940d436a0d3d5da4e95a38                                                                                                              </td><td>summer                                                                                                                                </td><td>2020-08                                                                                                                               </td></tr>\n",
       "</tbody>\n",
       "</table>\n"
      ],
      "text/latex": [
       "\\begin{tabular}{r|lllllllllllllllllllllllllllllllllllllllllll}\n",
       " title & title\\_orig & price & retail\\_price & currency\\_buyer & units\\_sold & uses\\_ad\\_boosts & rating & rating\\_count & rating\\_five\\_count & ... & merchant\\_rating\\_count & merchant\\_rating & merchant\\_id & merchant\\_has\\_profile\\_picture & merchant\\_profile\\_picture & product\\_url & product\\_picture & product\\_id & theme & crawl\\_month\\\\\n",
       "\\hline\n",
       "\t 2020 Summer Vintage Flamingo Print  Pajamas Set Casual Loose T Shirt Top And Elastic Shorts Women Sleepwear Night Wear Loungewear Sets & 2020 Summer Vintage Flamingo Print  Pajamas Set Casual Loose T Shirt Top And Elastic Shorts Women Sleepwear Night Wear Loungewear Sets & 16                                                                                                                                     & 14                                                                                                                                     & EUR                                                                                                                                    &   100                                                                                                                                  & 0                                                                                                                                      & 3.76                                                                                                                                   &   54                                                                                                                                   &   26                                                                                                                                   & ...                                                                                                                                    &   568                                                                                                                                  & 4.128521                                                                                                                               & 595097d6a26f6e070cb878d1                                                                                                               & 0                                                                                                                                      &                                                                                                                                        & https://www.wish.com/c/5e9ae51d43d6a96e303acdb0                                                                                        & https://contestimg.wish.com/api/webimage/5e9ae51d43d6a96e303acdb0-medium.jpg                                                           & 5e9ae51d43d6a96e303acdb0                                                                                                               & summer                                                                                                                                 & 2020-08                                                                                                                               \\\\\n",
       "\t SSHOUSE Summer Casual Sleeveless SoirÃ©e Party SoirÃ©e sans manches VÃªtements de plage sexy Mini robe femme wshC1612242400387A21      & Women's Casual Summer Sleeveless Sexy Mini Dress                                                                                       &  8                                                                                                                                     & 22                                                                                                                                     & EUR                                                                                                                                    & 20000                                                                                                                                  & 1                                                                                                                                      & 3.45                                                                                                                                   & 6135                                                                                                                                   & 2269                                                                                                                                   & ...                                                                                                                                    & 17752                                                                                                                                  & 3.899673                                                                                                                               & 56458aa03a698c35c9050988                                                                                                               & 0                                                                                                                                      &                                                                                                                                        & https://www.wish.com/c/58940d436a0d3d5da4e95a38                                                                                        & https://contestimg.wish.com/api/webimage/58940d436a0d3d5da4e95a38-medium.jpg                                                           & 58940d436a0d3d5da4e95a38                                                                                                               & summer                                                                                                                                 & 2020-08                                                                                                                               \\\\\n",
       "\\end{tabular}\n"
      ],
      "text/markdown": [
       "\n",
       "| title | title_orig | price | retail_price | currency_buyer | units_sold | uses_ad_boosts | rating | rating_count | rating_five_count | ... | merchant_rating_count | merchant_rating | merchant_id | merchant_has_profile_picture | merchant_profile_picture | product_url | product_picture | product_id | theme | crawl_month |\n",
       "|---|---|---|---|---|---|---|---|---|---|---|---|---|---|---|---|---|---|---|---|---|\n",
       "| 2020 Summer Vintage Flamingo Print  Pajamas Set Casual Loose T Shirt Top And Elastic Shorts Women Sleepwear Night Wear Loungewear Sets | 2020 Summer Vintage Flamingo Print  Pajamas Set Casual Loose T Shirt Top And Elastic Shorts Women Sleepwear Night Wear Loungewear Sets | 16                                                                                                                                     | 14                                                                                                                                     | EUR                                                                                                                                    |   100                                                                                                                                  | 0                                                                                                                                      | 3.76                                                                                                                                   |   54                                                                                                                                   |   26                                                                                                                                   | ...                                                                                                                                    |   568                                                                                                                                  | 4.128521                                                                                                                               | 595097d6a26f6e070cb878d1                                                                                                               | 0                                                                                                                                      |                                                                                                                                        | https://www.wish.com/c/5e9ae51d43d6a96e303acdb0                                                                                        | https://contestimg.wish.com/api/webimage/5e9ae51d43d6a96e303acdb0-medium.jpg                                                           | 5e9ae51d43d6a96e303acdb0                                                                                                               | summer                                                                                                                                 | 2020-08                                                                                                                                |\n",
       "| SSHOUSE Summer Casual Sleeveless SoirÃ©e Party SoirÃ©e sans manches VÃªtements de plage sexy Mini robe femme wshC1612242400387A21      | Women's Casual Summer Sleeveless Sexy Mini Dress                                                                                       |  8                                                                                                                                     | 22                                                                                                                                     | EUR                                                                                                                                    | 20000                                                                                                                                  | 1                                                                                                                                      | 3.45                                                                                                                                   | 6135                                                                                                                                   | 2269                                                                                                                                   | ...                                                                                                                                    | 17752                                                                                                                                  | 3.899673                                                                                                                               | 56458aa03a698c35c9050988                                                                                                               | 0                                                                                                                                      |                                                                                                                                        | https://www.wish.com/c/58940d436a0d3d5da4e95a38                                                                                        | https://contestimg.wish.com/api/webimage/58940d436a0d3d5da4e95a38-medium.jpg                                                           | 58940d436a0d3d5da4e95a38                                                                                                               | summer                                                                                                                                 | 2020-08                                                                                                                                |\n",
       "\n"
      ],
      "text/plain": [
       "  title                                                                                                                                 \n",
       "1 2020 Summer Vintage Flamingo Print  Pajamas Set Casual Loose T Shirt Top And Elastic Shorts Women Sleepwear Night Wear Loungewear Sets\n",
       "2 SSHOUSE Summer Casual Sleeveless SoirÃ©e Party SoirÃ©e sans manches VÃªtements de plage sexy Mini robe femme wshC1612242400387A21     \n",
       "  title_orig                                                                                                                            \n",
       "1 2020 Summer Vintage Flamingo Print  Pajamas Set Casual Loose T Shirt Top And Elastic Shorts Women Sleepwear Night Wear Loungewear Sets\n",
       "2 Women's Casual Summer Sleeveless Sexy Mini Dress                                                                                      \n",
       "  price retail_price currency_buyer units_sold uses_ad_boosts rating\n",
       "1 16    14           EUR              100      0              3.76  \n",
       "2  8    22           EUR            20000      1              3.45  \n",
       "  rating_count rating_five_count ... merchant_rating_count merchant_rating\n",
       "1   54           26              ...   568                 4.128521       \n",
       "2 6135         2269              ... 17752                 3.899673       \n",
       "  merchant_id              merchant_has_profile_picture\n",
       "1 595097d6a26f6e070cb878d1 0                           \n",
       "2 56458aa03a698c35c9050988 0                           \n",
       "  merchant_profile_picture product_url                                    \n",
       "1                          https://www.wish.com/c/5e9ae51d43d6a96e303acdb0\n",
       "2                          https://www.wish.com/c/58940d436a0d3d5da4e95a38\n",
       "  product_picture                                                             \n",
       "1 https://contestimg.wish.com/api/webimage/5e9ae51d43d6a96e303acdb0-medium.jpg\n",
       "2 https://contestimg.wish.com/api/webimage/58940d436a0d3d5da4e95a38-medium.jpg\n",
       "  product_id               theme  crawl_month\n",
       "1 5e9ae51d43d6a96e303acdb0 summer 2020-08    \n",
       "2 58940d436a0d3d5da4e95a38 summer 2020-08    "
      ]
     },
     "metadata": {},
     "output_type": "display_data"
    }
   ],
   "source": [
    "head(data,2)"
   ]
  },
  {
   "cell_type": "markdown",
   "metadata": {},
   "source": [
    "#### It is important to visualize the data before deciding about which variable would be interesting to keep and which is not."
   ]
  },
  {
   "cell_type": "code",
   "execution_count": 4,
   "metadata": {},
   "outputs": [
    {
     "data": {
      "text/plain": [
       "\n",
       "                                               QuantitÃ© limitÃ©e ! \n",
       "                             1100                               472 \n",
       "RÃ©duction sur les achats en gros \n",
       "                                1 "
      ]
     },
     "metadata": {},
     "output_type": "display_data"
    }
   ],
   "source": [
    "table(data$urgency_text)"
   ]
  },
  {
   "cell_type": "markdown",
   "metadata": {},
   "source": [
    "#### I start with the column \"urgency_text\". Using the table() function, I was able to understand how the different obs.\n",
    "#### are divided.\n",
    "#### I decide to transform the urgency text \"Quantité limitée!\" into a factor variable."
   ]
  },
  {
   "cell_type": "code",
   "execution_count": 5,
   "metadata": {},
   "outputs": [
    {
     "data": {
      "text/plain": [
       "\n",
       "   0 \n",
       "1573 "
      ]
     },
     "metadata": {},
     "output_type": "display_data"
    },
    {
     "name": "stdout",
     "output_type": "stream",
     "text": [
      " Factor w/ 1 level \"0\": 1 1 1 1 1 1 1 1 1 1 ...\n"
     ]
    }
   ],
   "source": [
    "data$urgency_text<-ifelse(data$urgency_text==\"Quantité limitée !\",1,0)\n",
    "table(data$urgency_text)\n",
    "data$urgency_text<-as.factor(data$urgency_text)\n",
    "str(data$urgency_text)"
   ]
  },
  {
   "cell_type": "markdown",
   "metadata": {},
   "source": [
    "#### \"Merchant_info_subtitle\" variable gives interesting information about the vendor info, the positive feedback\n",
    "#### I'm gonna try to store these info into a factor variable\n"
   ]
  },
  {
   "cell_type": "code",
   "execution_count": 6,
   "metadata": {},
   "outputs": [
    {
     "data": {
      "text/html": [
       "<ol class=list-inline>\n",
       "\t<li>'(568 notes)'</li>\n",
       "\t<li>'83 % avis positifs (17,752 notes)'</li>\n",
       "\t<li>'86 % avis positifs (295 notes)'</li>\n",
       "\t<li>'(23,832 notes)'</li>\n",
       "\t<li>'85 % avis positifs (14,482 notes)'</li>\n",
       "</ol>\n"
      ],
      "text/latex": [
       "\\begin{enumerate*}\n",
       "\\item '(568 notes)'\n",
       "\\item '83 \\% avis positifs (17,752 notes)'\n",
       "\\item '86 \\% avis positifs (295 notes)'\n",
       "\\item '(23,832 notes)'\n",
       "\\item '85 \\% avis positifs (14,482 notes)'\n",
       "\\end{enumerate*}\n"
      ],
      "text/markdown": [
       "1. '(568 notes)'\n",
       "2. '83 % avis positifs (17,752 notes)'\n",
       "3. '86 % avis positifs (295 notes)'\n",
       "4. '(23,832 notes)'\n",
       "5. '85 % avis positifs (14,482 notes)'\n",
       "\n",
       "\n"
      ],
      "text/plain": [
       "[1] \"(568 notes)\"                       \"83 % avis positifs (17,752 notes)\"\n",
       "[3] \"86 % avis positifs (295 notes)\"    \"(23,832 notes)\"                   \n",
       "[5] \"85 % avis positifs (14,482 notes)\""
      ]
     },
     "metadata": {},
     "output_type": "display_data"
    }
   ],
   "source": [
    "head(data$merchant_info_subtitle,5)"
   ]
  },
  {
   "cell_type": "code",
   "execution_count": 7,
   "metadata": {},
   "outputs": [
    {
     "name": "stderr",
     "output_type": "stream",
     "text": [
      "Warning message in base::as.numeric(x):\n",
      "\"si è prodotto un NA per coercizione\""
     ]
    },
    {
     "data": {
      "text/plain": [
       "infodata\n",
       "  0  33  53  56  59  61  65  67  68  70  71  73  74  75  76  77  78  79  80  81 \n",
       "348   1   2   1   1   1   2   1   2   4   4  10   3   9   7  10  10  26  39  53 \n",
       " 82  83  84  85  86  87  88  89  90  91  92  93  94  95  96  97 100 \n",
       " 73  85 102 130 135 107 104  92  70  63  30  21  13  10   1   1   2 "
      ]
     },
     "metadata": {},
     "output_type": "display_data"
    },
    {
     "data": {
      "image/png": "[encoded data removed]",
      "text/plain": [
       "Plot with title \"Histogram of infodata\""
      ]
     },
     "metadata": {},
     "output_type": "display_data"
    }
   ],
   "source": [
    "info<-strsplit(data$merchant_info_subtitle,\" \")\n",
    "infodata=list()\n",
    "for (i in 1:length(info)){\n",
    "  test=unlist(info[i])\n",
    "  test=test[1]\n",
    "  \n",
    "  if (length(test)<=2){\n",
    "    infodata[i]=test\n",
    "  }\n",
    "  if (length(test)>2){\n",
    "    infodata[i]=0\n",
    "  }\n",
    "}\n",
    "infodata=unlist(infodata)\n",
    "infodata=as.numeric(infodata)\n",
    "infodata<-ifelse(is.na(infodata),0,infodata)\n",
    "table(infodata)\n",
    "hist(infodata)"
   ]
  },
  {
   "cell_type": "code",
   "execution_count": 8,
   "metadata": {},
   "outputs": [
    {
     "data": {
      "text/plain": [
       "   Min. 1st Qu.  Median    Mean 3rd Qu.    Max. \n",
       "   0.00   76.00   84.00   66.51   88.00  100.00 "
      ]
     },
     "metadata": {},
     "output_type": "display_data"
    }
   ],
   "source": [
    "summary(infodata)"
   ]
  },
  {
   "cell_type": "markdown",
   "metadata": {},
   "source": [
    "#### I consider the feedback major or equal at 85% as a rule to define  \"good_seller\" dummy variable\n",
    "#### I still keep the numeric value (in percentage) of the positive feedback"
   ]
  },
  {
   "cell_type": "code",
   "execution_count": 9,
   "metadata": {},
   "outputs": [
    {
     "data": {
      "text/html": [
       "0.0382672318347677"
      ],
      "text/latex": [
       "0.0382672318347677"
      ],
      "text/markdown": [
       "0.0382672318347677"
      ],
      "text/plain": [
       "[1] 0.03826723"
      ]
     },
     "metadata": {},
     "output_type": "display_data"
    }
   ],
   "source": [
    "goodseller<-ifelse(infodata>=85,1,0)\n",
    "goodseller<-ifelse(is.na(goodseller),0,goodseller)\n",
    "infodata<-ifelse(is.na(infodata),0,infodata)\n",
    "goodseller<-as.factor(goodseller)\n",
    "\n",
    "data$merchant_info_subtitle<-infodata\n",
    "data$goodseller<-goodseller\n",
    "\n",
    "cor(data$merchant_info_subtitle,data$units_sold) #It seems like there is a low correlation between the units sold and\n",
    "                                                #the positive feedback of the seller\n",
    "\n"
   ]
  },
  {
   "cell_type": "markdown",
   "metadata": {},
   "source": [
    "### Merchant rating"
   ]
  },
  {
   "cell_type": "code",
   "execution_count": 10,
   "metadata": {},
   "outputs": [
    {
     "data": {
      "text/plain": [
       "   Min. 1st Qu.  Median    Mean 3rd Qu.    Max. \n",
       "  2.300   3.900   4.000   4.033   4.200   5.000 "
      ]
     },
     "metadata": {},
     "output_type": "display_data"
    },
    {
     "data": {
      "image/png": "[encoded data removed]",
      "text/plain": [
       "Plot with title \"Histogram of data$merchant_rating\""
      ]
     },
     "metadata": {},
     "output_type": "display_data"
    }
   ],
   "source": [
    "data$merchant_rating<-round(data$merchant_rating,digits=1) #I rounded the rating to make easier the comparison\n",
    "hist(data$merchant_rating)\n",
    "summary(data$merchant_rating)"
   ]
  },
  {
   "cell_type": "code",
   "execution_count": 11,
   "metadata": {},
   "outputs": [
    {
     "name": "stdout",
     "output_type": "stream",
     "text": [
      "[1] 0.1203762\n"
     ]
    }
   ],
   "source": [
    "print(cor(data$merchant_rating,data$units_sold)) # it seems it can be found a low correlation between the merchant_rating and\n",
    "                                         # the units sold"
   ]
  },
  {
   "cell_type": "markdown",
   "metadata": {},
   "source": [
    "### Rating count"
   ]
  },
  {
   "cell_type": "code",
   "execution_count": 12,
   "metadata": {},
   "outputs": [
    {
     "name": "stdout",
     "output_type": "stream",
     "text": [
      "Summary of the data$merchant_rating_count"
     ]
    },
    {
     "data": {
      "text/plain": [
       "   Min. 1st Qu.  Median    Mean 3rd Qu.    Max. \n",
       "      0    1987    7936   26496   24564 2174765 "
      ]
     },
     "metadata": {},
     "output_type": "display_data"
    },
    {
     "data": {
      "image/png": "[encoded data removed]",
      "text/plain": [
       "Plot with title \"Histogram of data$merchant_rating_count\""
      ]
     },
     "metadata": {},
     "output_type": "display_data"
    }
   ],
   "source": [
    "hist(data$merchant_rating_count)\n",
    "cat(\"Summary of the data$merchant_rating_count\")\n",
    "summary(data$merchant_rating_count)"
   ]
  },
  {
   "cell_type": "code",
   "execution_count": 13,
   "metadata": {},
   "outputs": [
    {
     "name": "stdout",
     "output_type": "stream",
     "text": [
      "Correlation data$merchant_rating_count and data$units_sold ="
     ]
    },
    {
     "data": {
      "text/html": [
       "0.272897319448099"
      ],
      "text/latex": [
       "0.272897319448099"
      ],
      "text/markdown": [
       "0.272897319448099"
      ],
      "text/plain": [
       "[1] 0.2728973"
      ]
     },
     "metadata": {},
     "output_type": "display_data"
    },
    {
     "name": "stdout",
     "output_type": "stream",
     "text": [
      "Correlation data$merchant_rating_count and data$merchant_rating ="
     ]
    },
    {
     "data": {
      "text/html": [
       "0.13480914098668"
      ],
      "text/latex": [
       "0.13480914098668"
      ],
      "text/markdown": [
       "0.13480914098668"
      ],
      "text/plain": [
       "[1] 0.1348091"
      ]
     },
     "metadata": {},
     "output_type": "display_data"
    }
   ],
   "source": [
    "cat(\"Correlation data$merchant_rating_count and data$units_sold =\")\n",
    "cor(data$merchant_rating_count,data$units_sold) #Medium correlation\n",
    "cat(\"Correlation data$merchant_rating_count and data$merchant_rating =\")\n",
    "cor(data$merchant_rating_count,data$merchant_rating) #Low correlation "
   ]
  },
  {
   "cell_type": "markdown",
   "metadata": {},
   "source": [
    "### Merchant_ID"
   ]
  },
  {
   "cell_type": "code",
   "execution_count": 14,
   "metadata": {},
   "outputs": [
    {
     "name": "stdout",
     "output_type": "stream",
     "text": [
      "In the dataset the unique number of merchant_id is:"
     ]
    },
    {
     "data": {
      "text/html": [
       "958"
      ],
      "text/latex": [
       "958"
      ],
      "text/markdown": [
       "958"
      ],
      "text/plain": [
       "[1] 958"
      ]
     },
     "metadata": {},
     "output_type": "display_data"
    },
    {
     "name": "stdout",
     "output_type": "stream",
     "text": [
      "In the dataset the duplicated number of merchant_id is:"
     ]
    },
    {
     "data": {
      "text/html": [
       "615"
      ],
      "text/latex": [
       "615"
      ],
      "text/markdown": [
       "615"
      ],
      "text/plain": [
       "[1] 615"
      ]
     },
     "metadata": {},
     "output_type": "display_data"
    },
    {
     "name": "stdout",
     "output_type": "stream",
     "text": [
      "Check sum:"
     ]
    },
    {
     "data": {
      "text/html": [
       "1573"
      ],
      "text/latex": [
       "1573"
      ],
      "text/markdown": [
       "1573"
      ],
      "text/plain": [
       "[1] 1573"
      ]
     },
     "metadata": {},
     "output_type": "display_data"
    }
   ],
   "source": [
    "cat(\"In the dataset the unique number of merchant_id is:\")\n",
    "length(unique(data$merchant_id)) #there are some merchant who are duplicates\n",
    "                                #Should I do something to remove the duplicates in the ratings??? Not sure\n",
    "\n",
    "cat(\"In the dataset the duplicated number of merchant_id is:\")\n",
    "sum(duplicated(data$merchant_id)*1)\n",
    "\n",
    "cat(\"Check sum:\")\n",
    "length(unique(data$merchant_id))+sum(duplicated(data$merchant_id)*1)"
   ]
  },
  {
   "cell_type": "markdown",
   "metadata": {},
   "source": [
    "#### I decided to create a dummy variable to understand if there is a relation between units_sold and the higher presence in the dataset for the duplicates "
   ]
  },
  {
   "cell_type": "code",
   "execution_count": 15,
   "metadata": {},
   "outputs": [],
   "source": [
    "more_than_one_article<-as.factor(duplicated(data$merchant_id)*1)\n",
    "data$more_than_one_article<-more_than_one_article "
   ]
  },
  {
   "cell_type": "markdown",
   "metadata": {},
   "source": [
    "### Title"
   ]
  },
  {
   "cell_type": "markdown",
   "metadata": {},
   "source": [
    "#### I should consider the possibility that there are some duplicates.\n",
    "##### (I'll consider just the variable title)"
   ]
  },
  {
   "cell_type": "code",
   "execution_count": 16,
   "metadata": {},
   "outputs": [
    {
     "name": "stdout",
     "output_type": "stream",
     "text": [
      "The code show that the number of unique title is:"
     ]
    },
    {
     "data": {
      "text/html": [
       "1201"
      ],
      "text/latex": [
       "1201"
      ],
      "text/markdown": [
       "1201"
      ],
      "text/plain": [
       "[1] 1201"
      ]
     },
     "metadata": {},
     "output_type": "display_data"
    }
   ],
   "source": [
    "cat(\"The code show that the number of unique title is:\")\n",
    "length(unique(data$title))\n",
    "data$title<-tolower(data$title) #Removing Caps Lock"
   ]
  },
  {
   "cell_type": "markdown",
   "metadata": {},
   "source": [
    "#### It could be interesting to see if there is a relation between the title and the units_sold. It could be that a specific title may increase the units_sold variable"
   ]
  },
  {
   "cell_type": "code",
   "execution_count": 17,
   "metadata": {},
   "outputs": [],
   "source": [
    "repeated_title<-as.factor(duplicated(data$title)*1)\n",
    "data$repeated_title<-repeated_title "
   ]
  },
  {
   "cell_type": "markdown",
   "metadata": {},
   "source": [
    "#### In order to understand if there are dupllicates, I'm gonna check if there are matches between the titles and the id. If I find some matches, It means that I'm watching a duplicate. "
   ]
  },
  {
   "cell_type": "code",
   "execution_count": 18,
   "metadata": {},
   "outputs": [
    {
     "name": "stdout",
     "output_type": "stream",
     "text": [
      "Title duplicates are present in the dataset rows:"
     ]
    },
    {
     "data": {
      "text/html": [
       "<ol class=list-inline>\n",
       "\t<li>63</li>\n",
       "\t<li>68</li>\n",
       "\t<li>92</li>\n",
       "\t<li>96</li>\n",
       "\t<li>99</li>\n",
       "\t<li>123</li>\n",
       "\t<li>141</li>\n",
       "\t<li>154</li>\n",
       "\t<li>163</li>\n",
       "\t<li>180</li>\n",
       "\t<li>193</li>\n",
       "\t<li>204</li>\n",
       "\t<li>212</li>\n",
       "\t<li>227</li>\n",
       "\t<li>228</li>\n",
       "\t<li>267</li>\n",
       "\t<li>268</li>\n",
       "\t<li>274</li>\n",
       "\t<li>288</li>\n",
       "\t<li>297</li>\n",
       "\t<li>302</li>\n",
       "\t<li>310</li>\n",
       "\t<li>312</li>\n",
       "\t<li>315</li>\n",
       "\t<li>317</li>\n",
       "\t<li>333</li>\n",
       "\t<li>341</li>\n",
       "\t<li>342</li>\n",
       "\t<li>344</li>\n",
       "\t<li>355</li>\n",
       "\t<li>358</li>\n",
       "\t<li>363</li>\n",
       "\t<li>364</li>\n",
       "\t<li>380</li>\n",
       "\t<li>386</li>\n",
       "\t<li>407</li>\n",
       "\t<li>412</li>\n",
       "\t<li>415</li>\n",
       "\t<li>416</li>\n",
       "\t<li>420</li>\n",
       "\t<li>421</li>\n",
       "\t<li>424</li>\n",
       "\t<li>429</li>\n",
       "\t<li>436</li>\n",
       "\t<li>443</li>\n",
       "\t<li>445</li>\n",
       "\t<li>448</li>\n",
       "\t<li>455</li>\n",
       "\t<li>459</li>\n",
       "\t<li>465</li>\n",
       "\t<li>466</li>\n",
       "\t<li>483</li>\n",
       "\t<li>484</li>\n",
       "\t<li>489</li>\n",
       "\t<li>491</li>\n",
       "\t<li>497</li>\n",
       "\t<li>498</li>\n",
       "\t<li>505</li>\n",
       "\t<li>506</li>\n",
       "\t<li>515</li>\n",
       "\t<li>519</li>\n",
       "\t<li>520</li>\n",
       "\t<li>528</li>\n",
       "\t<li>533</li>\n",
       "\t<li>547</li>\n",
       "\t<li>552</li>\n",
       "\t<li>555</li>\n",
       "\t<li>556</li>\n",
       "\t<li>562</li>\n",
       "\t<li>569</li>\n",
       "\t<li>570</li>\n",
       "\t<li>571</li>\n",
       "\t<li>572</li>\n",
       "\t<li>574</li>\n",
       "\t<li>576</li>\n",
       "\t<li>577</li>\n",
       "\t<li>581</li>\n",
       "\t<li>582</li>\n",
       "\t<li>598</li>\n",
       "\t<li>599</li>\n",
       "\t<li>619</li>\n",
       "\t<li>621</li>\n",
       "\t<li>633</li>\n",
       "\t<li>634</li>\n",
       "\t<li>639</li>\n",
       "\t<li>640</li>\n",
       "\t<li>650</li>\n",
       "\t<li>653</li>\n",
       "\t<li>655</li>\n",
       "\t<li>656</li>\n",
       "\t<li>660</li>\n",
       "\t<li>671</li>\n",
       "\t<li>677</li>\n",
       "\t<li>679</li>\n",
       "\t<li>680</li>\n",
       "\t<li>681</li>\n",
       "\t<li>682</li>\n",
       "\t<li>684</li>\n",
       "\t<li>685</li>\n",
       "\t<li>687</li>\n",
       "\t<li>688</li>\n",
       "\t<li>689</li>\n",
       "\t<li>690</li>\n",
       "\t<li>699</li>\n",
       "\t<li>701</li>\n",
       "\t<li>702</li>\n",
       "\t<li>708</li>\n",
       "\t<li>713</li>\n",
       "\t<li>715</li>\n",
       "\t<li>716</li>\n",
       "\t<li>723</li>\n",
       "\t<li>726</li>\n",
       "\t<li>728</li>\n",
       "\t<li>733</li>\n",
       "\t<li>737</li>\n",
       "\t<li>740</li>\n",
       "\t<li>742</li>\n",
       "\t<li>745</li>\n",
       "\t<li>747</li>\n",
       "\t<li>752</li>\n",
       "\t<li>757</li>\n",
       "\t<li>760</li>\n",
       "\t<li>762</li>\n",
       "\t<li>770</li>\n",
       "\t<li>771</li>\n",
       "\t<li>773</li>\n",
       "\t<li>781</li>\n",
       "\t<li>792</li>\n",
       "\t<li>794</li>\n",
       "\t<li>801</li>\n",
       "\t<li>805</li>\n",
       "\t<li>806</li>\n",
       "\t<li>812</li>\n",
       "\t<li>814</li>\n",
       "\t<li>818</li>\n",
       "\t<li>819</li>\n",
       "\t<li>825</li>\n",
       "\t<li>828</li>\n",
       "\t<li>830</li>\n",
       "\t<li>833</li>\n",
       "\t<li>847</li>\n",
       "\t<li>858</li>\n",
       "\t<li>863</li>\n",
       "\t<li>864</li>\n",
       "\t<li>882</li>\n",
       "\t<li>885</li>\n",
       "\t<li>890</li>\n",
       "\t<li>891</li>\n",
       "\t<li>899</li>\n",
       "\t<li>900</li>\n",
       "\t<li>908</li>\n",
       "\t<li>909</li>\n",
       "\t<li>915</li>\n",
       "\t<li>916</li>\n",
       "\t<li>922</li>\n",
       "\t<li>923</li>\n",
       "\t<li>925</li>\n",
       "\t<li>926</li>\n",
       "\t<li>929</li>\n",
       "\t<li>930</li>\n",
       "\t<li>932</li>\n",
       "\t<li>935</li>\n",
       "\t<li>937</li>\n",
       "\t<li>939</li>\n",
       "\t<li>943</li>\n",
       "\t<li>947</li>\n",
       "\t<li>956</li>\n",
       "\t<li>960</li>\n",
       "\t<li>963</li>\n",
       "\t<li>967</li>\n",
       "\t<li>969</li>\n",
       "\t<li>980</li>\n",
       "\t<li>984</li>\n",
       "\t<li>987</li>\n",
       "\t<li>988</li>\n",
       "\t<li>992</li>\n",
       "\t<li>997</li>\n",
       "\t<li>998</li>\n",
       "\t<li>1000</li>\n",
       "\t<li>1002</li>\n",
       "\t<li>1004</li>\n",
       "\t<li>1005</li>\n",
       "\t<li>1025</li>\n",
       "\t<li>1029</li>\n",
       "\t<li>1033</li>\n",
       "\t<li>1040</li>\n",
       "\t<li>1042</li>\n",
       "\t<li>1043</li>\n",
       "\t<li>1044</li>\n",
       "\t<li>1049</li>\n",
       "\t<li>1051</li>\n",
       "\t<li>1053</li>\n",
       "\t<li>1060</li>\n",
       "\t<li>1061</li>\n",
       "\t<li>1063</li>\n",
       "\t<li>1069</li>\n",
       "\t<li>1072</li>\n",
       "\t<li>1075</li>\n",
       "\t<li>1080</li>\n",
       "\t<li>1081</li>\n",
       "\t<li>1084</li>\n",
       "\t<li>1088</li>\n",
       "\t<li>1090</li>\n",
       "\t<li>1094</li>\n",
       "\t<li>1095</li>\n",
       "\t<li>1100</li>\n",
       "\t<li>1104</li>\n",
       "\t<li>1106</li>\n",
       "\t<li>1110</li>\n",
       "\t<li>1112</li>\n",
       "\t<li>1114</li>\n",
       "\t<li>1118</li>\n",
       "\t<li>1121</li>\n",
       "\t<li>1122</li>\n",
       "\t<li>1127</li>\n",
       "\t<li>1132</li>\n",
       "\t<li>1133</li>\n",
       "\t<li>1134</li>\n",
       "\t<li>1135</li>\n",
       "\t<li>1137</li>\n",
       "\t<li>1139</li>\n",
       "\t<li>1146</li>\n",
       "\t<li>1148</li>\n",
       "\t<li>1149</li>\n",
       "\t<li>1162</li>\n",
       "\t<li>1167</li>\n",
       "\t<li>1168</li>\n",
       "\t<li>1172</li>\n",
       "\t<li>1174</li>\n",
       "\t<li>1175</li>\n",
       "\t<li>1178</li>\n",
       "\t<li>1180</li>\n",
       "\t<li>1182</li>\n",
       "\t<li>1198</li>\n",
       "\t<li>1200</li>\n",
       "\t<li>1208</li>\n",
       "\t<li>1209</li>\n",
       "\t<li>1210</li>\n",
       "\t<li>1213</li>\n",
       "\t<li>1220</li>\n",
       "\t<li>1222</li>\n",
       "\t<li>1224</li>\n",
       "\t<li>1229</li>\n",
       "\t<li>1230</li>\n",
       "\t<li>1233</li>\n",
       "\t<li>1234</li>\n",
       "\t<li>1240</li>\n",
       "\t<li>1241</li>\n",
       "\t<li>1242</li>\n",
       "\t<li>1243</li>\n",
       "\t<li>1244</li>\n",
       "\t<li>1245</li>\n",
       "\t<li>1246</li>\n",
       "\t<li>1247</li>\n",
       "\t<li>1248</li>\n",
       "\t<li>1252</li>\n",
       "\t<li>1253</li>\n",
       "\t<li>1254</li>\n",
       "\t<li>1255</li>\n",
       "\t<li>1258</li>\n",
       "\t<li>1259</li>\n",
       "\t<li>1263</li>\n",
       "\t<li>1264</li>\n",
       "\t<li>1266</li>\n",
       "\t<li>1267</li>\n",
       "\t<li>1268</li>\n",
       "\t<li>1270</li>\n",
       "\t<li>1271</li>\n",
       "\t<li>1272</li>\n",
       "\t<li>1274</li>\n",
       "\t<li>1277</li>\n",
       "\t<li>1281</li>\n",
       "\t<li>1283</li>\n",
       "\t<li>1284</li>\n",
       "\t<li>1289</li>\n",
       "\t<li>1290</li>\n",
       "\t<li>1293</li>\n",
       "\t<li>1296</li>\n",
       "\t<li>1298</li>\n",
       "\t<li>1310</li>\n",
       "\t<li>1317</li>\n",
       "\t<li>1318</li>\n",
       "\t<li>1319</li>\n",
       "\t<li>1320</li>\n",
       "\t<li>1321</li>\n",
       "\t<li>1322</li>\n",
       "\t<li>1325</li>\n",
       "\t<li>1332</li>\n",
       "\t<li>1336</li>\n",
       "\t<li>1344</li>\n",
       "\t<li>1345</li>\n",
       "\t<li>1346</li>\n",
       "\t<li>1347</li>\n",
       "\t<li>1348</li>\n",
       "\t<li>1349</li>\n",
       "\t<li>1356</li>\n",
       "\t<li>1359</li>\n",
       "\t<li>1361</li>\n",
       "\t<li>1364</li>\n",
       "\t<li>1366</li>\n",
       "\t<li>1370</li>\n",
       "\t<li>1373</li>\n",
       "\t<li>1374</li>\n",
       "\t<li>1375</li>\n",
       "\t<li>1383</li>\n",
       "\t<li>1384</li>\n",
       "\t<li>1388</li>\n",
       "\t<li>1390</li>\n",
       "\t<li>1398</li>\n",
       "\t<li>1402</li>\n",
       "\t<li>1404</li>\n",
       "\t<li>1406</li>\n",
       "\t<li>1411</li>\n",
       "\t<li>1412</li>\n",
       "\t<li>1417</li>\n",
       "\t<li>1422</li>\n",
       "\t<li>1424</li>\n",
       "\t<li>1426</li>\n",
       "\t<li>1434</li>\n",
       "\t<li>1435</li>\n",
       "\t<li>1437</li>\n",
       "\t<li>1439</li>\n",
       "\t<li>1440</li>\n",
       "\t<li>1443</li>\n",
       "\t<li>1444</li>\n",
       "\t<li>1445</li>\n",
       "\t<li>1446</li>\n",
       "\t<li>1447</li>\n",
       "\t<li>1451</li>\n",
       "\t<li>1452</li>\n",
       "\t<li>1455</li>\n",
       "\t<li>1456</li>\n",
       "\t<li>1459</li>\n",
       "\t<li>1460</li>\n",
       "\t<li>1462</li>\n",
       "\t<li>1478</li>\n",
       "\t<li>1479</li>\n",
       "\t<li>1480</li>\n",
       "\t<li>1482</li>\n",
       "\t<li>1487</li>\n",
       "\t<li>1490</li>\n",
       "\t<li>1492</li>\n",
       "\t<li>1494</li>\n",
       "\t<li>1496</li>\n",
       "\t<li>1499</li>\n",
       "\t<li>1500</li>\n",
       "\t<li>1502</li>\n",
       "\t<li>1511</li>\n",
       "\t<li>1513</li>\n",
       "\t<li>1514</li>\n",
       "\t<li>1515</li>\n",
       "\t<li>1518</li>\n",
       "\t<li>1519</li>\n",
       "\t<li>1521</li>\n",
       "\t<li>1523</li>\n",
       "\t<li>1527</li>\n",
       "\t<li>1529</li>\n",
       "\t<li>1531</li>\n",
       "\t<li>1537</li>\n",
       "\t<li>1541</li>\n",
       "\t<li>1544</li>\n",
       "\t<li>1545</li>\n",
       "\t<li>1547</li>\n",
       "\t<li>1548</li>\n",
       "\t<li>1552</li>\n",
       "\t<li>1554</li>\n",
       "\t<li>1557</li>\n",
       "\t<li>1560</li>\n",
       "\t<li>1563</li>\n",
       "\t<li>1567</li>\n",
       "\t<li>1570</li>\n",
       "\t<li>1572</li>\n",
       "</ol>\n"
      ],
      "text/latex": [
       "\\begin{enumerate*}\n",
       "\\item 63\n",
       "\\item 68\n",
       "\\item 92\n",
       "\\item 96\n",
       "\\item 99\n",
       "\\item 123\n",
       "\\item 141\n",
       "\\item 154\n",
       "\\item 163\n",
       "\\item 180\n",
       "\\item 193\n",
       "\\item 204\n",
       "\\item 212\n",
       "\\item 227\n",
       "\\item 228\n",
       "\\item 267\n",
       "\\item 268\n",
       "\\item 274\n",
       "\\item 288\n",
       "\\item 297\n",
       "\\item 302\n",
       "\\item 310\n",
       "\\item 312\n",
       "\\item 315\n",
       "\\item 317\n",
       "\\item 333\n",
       "\\item 341\n",
       "\\item 342\n",
       "\\item 344\n",
       "\\item 355\n",
       "\\item 358\n",
       "\\item 363\n",
       "\\item 364\n",
       "\\item 380\n",
       "\\item 386\n",
       "\\item 407\n",
       "\\item 412\n",
       "\\item 415\n",
       "\\item 416\n",
       "\\item 420\n",
       "\\item 421\n",
       "\\item 424\n",
       "\\item 429\n",
       "\\item 436\n",
       "\\item 443\n",
       "\\item 445\n",
       "\\item 448\n",
       "\\item 455\n",
       "\\item 459\n",
       "\\item 465\n",
       "\\item 466\n",
       "\\item 483\n",
       "\\item 484\n",
       "\\item 489\n",
       "\\item 491\n",
       "\\item 497\n",
       "\\item 498\n",
       "\\item 505\n",
       "\\item 506\n",
       "\\item 515\n",
       "\\item 519\n",
       "\\item 520\n",
       "\\item 528\n",
       "\\item 533\n",
       "\\item 547\n",
       "\\item 552\n",
       "\\item 555\n",
       "\\item 556\n",
       "\\item 562\n",
       "\\item 569\n",
       "\\item 570\n",
       "\\item 571\n",
       "\\item 572\n",
       "\\item 574\n",
       "\\item 576\n",
       "\\item 577\n",
       "\\item 581\n",
       "\\item 582\n",
       "\\item 598\n",
       "\\item 599\n",
       "\\item 619\n",
       "\\item 621\n",
       "\\item 633\n",
       "\\item 634\n",
       "\\item 639\n",
       "\\item 640\n",
       "\\item 650\n",
       "\\item 653\n",
       "\\item 655\n",
       "\\item 656\n",
       "\\item 660\n",
       "\\item 671\n",
       "\\item 677\n",
       "\\item 679\n",
       "\\item 680\n",
       "\\item 681\n",
       "\\item 682\n",
       "\\item 684\n",
       "\\item 685\n",
       "\\item 687\n",
       "\\item 688\n",
       "\\item 689\n",
       "\\item 690\n",
       "\\item 699\n",
       "\\item 701\n",
       "\\item 702\n",
       "\\item 708\n",
       "\\item 713\n",
       "\\item 715\n",
       "\\item 716\n",
       "\\item 723\n",
       "\\item 726\n",
       "\\item 728\n",
       "\\item 733\n",
       "\\item 737\n",
       "\\item 740\n",
       "\\item 742\n",
       "\\item 745\n",
       "\\item 747\n",
       "\\item 752\n",
       "\\item 757\n",
       "\\item 760\n",
       "\\item 762\n",
       "\\item 770\n",
       "\\item 771\n",
       "\\item 773\n",
       "\\item 781\n",
       "\\item 792\n",
       "\\item 794\n",
       "\\item 801\n",
       "\\item 805\n",
       "\\item 806\n",
       "\\item 812\n",
       "\\item 814\n",
       "\\item 818\n",
       "\\item 819\n",
       "\\item 825\n",
       "\\item 828\n",
       "\\item 830\n",
       "\\item 833\n",
       "\\item 847\n",
       "\\item 858\n",
       "\\item 863\n",
       "\\item 864\n",
       "\\item 882\n",
       "\\item 885\n",
       "\\item 890\n",
       "\\item 891\n",
       "\\item 899\n",
       "\\item 900\n",
       "\\item 908\n",
       "\\item 909\n",
       "\\item 915\n",
       "\\item 916\n",
       "\\item 922\n",
       "\\item 923\n",
       "\\item 925\n",
       "\\item 926\n",
       "\\item 929\n",
       "\\item 930\n",
       "\\item 932\n",
       "\\item 935\n",
       "\\item 937\n",
       "\\item 939\n",
       "\\item 943\n",
       "\\item 947\n",
       "\\item 956\n",
       "\\item 960\n",
       "\\item 963\n",
       "\\item 967\n",
       "\\item 969\n",
       "\\item 980\n",
       "\\item 984\n",
       "\\item 987\n",
       "\\item 988\n",
       "\\item 992\n",
       "\\item 997\n",
       "\\item 998\n",
       "\\item 1000\n",
       "\\item 1002\n",
       "\\item 1004\n",
       "\\item 1005\n",
       "\\item 1025\n",
       "\\item 1029\n",
       "\\item 1033\n",
       "\\item 1040\n",
       "\\item 1042\n",
       "\\item 1043\n",
       "\\item 1044\n",
       "\\item 1049\n",
       "\\item 1051\n",
       "\\item 1053\n",
       "\\item 1060\n",
       "\\item 1061\n",
       "\\item 1063\n",
       "\\item 1069\n",
       "\\item 1072\n",
       "\\item 1075\n",
       "\\item 1080\n",
       "\\item 1081\n",
       "\\item 1084\n",
       "\\item 1088\n",
       "\\item 1090\n",
       "\\item 1094\n",
       "\\item 1095\n",
       "\\item 1100\n",
       "\\item 1104\n",
       "\\item 1106\n",
       "\\item 1110\n",
       "\\item 1112\n",
       "\\item 1114\n",
       "\\item 1118\n",
       "\\item 1121\n",
       "\\item 1122\n",
       "\\item 1127\n",
       "\\item 1132\n",
       "\\item 1133\n",
       "\\item 1134\n",
       "\\item 1135\n",
       "\\item 1137\n",
       "\\item 1139\n",
       "\\item 1146\n",
       "\\item 1148\n",
       "\\item 1149\n",
       "\\item 1162\n",
       "\\item 1167\n",
       "\\item 1168\n",
       "\\item 1172\n",
       "\\item 1174\n",
       "\\item 1175\n",
       "\\item 1178\n",
       "\\item 1180\n",
       "\\item 1182\n",
       "\\item 1198\n",
       "\\item 1200\n",
       "\\item 1208\n",
       "\\item 1209\n",
       "\\item 1210\n",
       "\\item 1213\n",
       "\\item 1220\n",
       "\\item 1222\n",
       "\\item 1224\n",
       "\\item 1229\n",
       "\\item 1230\n",
       "\\item 1233\n",
       "\\item 1234\n",
       "\\item 1240\n",
       "\\item 1241\n",
       "\\item 1242\n",
       "\\item 1243\n",
       "\\item 1244\n",
       "\\item 1245\n",
       "\\item 1246\n",
       "\\item 1247\n",
       "\\item 1248\n",
       "\\item 1252\n",
       "\\item 1253\n",
       "\\item 1254\n",
       "\\item 1255\n",
       "\\item 1258\n",
       "\\item 1259\n",
       "\\item 1263\n",
       "\\item 1264\n",
       "\\item 1266\n",
       "\\item 1267\n",
       "\\item 1268\n",
       "\\item 1270\n",
       "\\item 1271\n",
       "\\item 1272\n",
       "\\item 1274\n",
       "\\item 1277\n",
       "\\item 1281\n",
       "\\item 1283\n",
       "\\item 1284\n",
       "\\item 1289\n",
       "\\item 1290\n",
       "\\item 1293\n",
       "\\item 1296\n",
       "\\item 1298\n",
       "\\item 1310\n",
       "\\item 1317\n",
       "\\item 1318\n",
       "\\item 1319\n",
       "\\item 1320\n",
       "\\item 1321\n",
       "\\item 1322\n",
       "\\item 1325\n",
       "\\item 1332\n",
       "\\item 1336\n",
       "\\item 1344\n",
       "\\item 1345\n",
       "\\item 1346\n",
       "\\item 1347\n",
       "\\item 1348\n",
       "\\item 1349\n",
       "\\item 1356\n",
       "\\item 1359\n",
       "\\item 1361\n",
       "\\item 1364\n",
       "\\item 1366\n",
       "\\item 1370\n",
       "\\item 1373\n",
       "\\item 1374\n",
       "\\item 1375\n",
       "\\item 1383\n",
       "\\item 1384\n",
       "\\item 1388\n",
       "\\item 1390\n",
       "\\item 1398\n",
       "\\item 1402\n",
       "\\item 1404\n",
       "\\item 1406\n",
       "\\item 1411\n",
       "\\item 1412\n",
       "\\item 1417\n",
       "\\item 1422\n",
       "\\item 1424\n",
       "\\item 1426\n",
       "\\item 1434\n",
       "\\item 1435\n",
       "\\item 1437\n",
       "\\item 1439\n",
       "\\item 1440\n",
       "\\item 1443\n",
       "\\item 1444\n",
       "\\item 1445\n",
       "\\item 1446\n",
       "\\item 1447\n",
       "\\item 1451\n",
       "\\item 1452\n",
       "\\item 1455\n",
       "\\item 1456\n",
       "\\item 1459\n",
       "\\item 1460\n",
       "\\item 1462\n",
       "\\item 1478\n",
       "\\item 1479\n",
       "\\item 1480\n",
       "\\item 1482\n",
       "\\item 1487\n",
       "\\item 1490\n",
       "\\item 1492\n",
       "\\item 1494\n",
       "\\item 1496\n",
       "\\item 1499\n",
       "\\item 1500\n",
       "\\item 1502\n",
       "\\item 1511\n",
       "\\item 1513\n",
       "\\item 1514\n",
       "\\item 1515\n",
       "\\item 1518\n",
       "\\item 1519\n",
       "\\item 1521\n",
       "\\item 1523\n",
       "\\item 1527\n",
       "\\item 1529\n",
       "\\item 1531\n",
       "\\item 1537\n",
       "\\item 1541\n",
       "\\item 1544\n",
       "\\item 1545\n",
       "\\item 1547\n",
       "\\item 1548\n",
       "\\item 1552\n",
       "\\item 1554\n",
       "\\item 1557\n",
       "\\item 1560\n",
       "\\item 1563\n",
       "\\item 1567\n",
       "\\item 1570\n",
       "\\item 1572\n",
       "\\end{enumerate*}\n"
      ],
      "text/markdown": [
       "1. 63\n",
       "2. 68\n",
       "3. 92\n",
       "4. 96\n",
       "5. 99\n",
       "6. 123\n",
       "7. 141\n",
       "8. 154\n",
       "9. 163\n",
       "10. 180\n",
       "11. 193\n",
       "12. 204\n",
       "13. 212\n",
       "14. 227\n",
       "15. 228\n",
       "16. 267\n",
       "17. 268\n",
       "18. 274\n",
       "19. 288\n",
       "20. 297\n",
       "21. 302\n",
       "22. 310\n",
       "23. 312\n",
       "24. 315\n",
       "25. 317\n",
       "26. 333\n",
       "27. 341\n",
       "28. 342\n",
       "29. 344\n",
       "30. 355\n",
       "31. 358\n",
       "32. 363\n",
       "33. 364\n",
       "34. 380\n",
       "35. 386\n",
       "36. 407\n",
       "37. 412\n",
       "38. 415\n",
       "39. 416\n",
       "40. 420\n",
       "41. 421\n",
       "42. 424\n",
       "43. 429\n",
       "44. 436\n",
       "45. 443\n",
       "46. 445\n",
       "47. 448\n",
       "48. 455\n",
       "49. 459\n",
       "50. 465\n",
       "51. 466\n",
       "52. 483\n",
       "53. 484\n",
       "54. 489\n",
       "55. 491\n",
       "56. 497\n",
       "57. 498\n",
       "58. 505\n",
       "59. 506\n",
       "60. 515\n",
       "61. 519\n",
       "62. 520\n",
       "63. 528\n",
       "64. 533\n",
       "65. 547\n",
       "66. 552\n",
       "67. 555\n",
       "68. 556\n",
       "69. 562\n",
       "70. 569\n",
       "71. 570\n",
       "72. 571\n",
       "73. 572\n",
       "74. 574\n",
       "75. 576\n",
       "76. 577\n",
       "77. 581\n",
       "78. 582\n",
       "79. 598\n",
       "80. 599\n",
       "81. 619\n",
       "82. 621\n",
       "83. 633\n",
       "84. 634\n",
       "85. 639\n",
       "86. 640\n",
       "87. 650\n",
       "88. 653\n",
       "89. 655\n",
       "90. 656\n",
       "91. 660\n",
       "92. 671\n",
       "93. 677\n",
       "94. 679\n",
       "95. 680\n",
       "96. 681\n",
       "97. 682\n",
       "98. 684\n",
       "99. 685\n",
       "100. 687\n",
       "101. 688\n",
       "102. 689\n",
       "103. 690\n",
       "104. 699\n",
       "105. 701\n",
       "106. 702\n",
       "107. 708\n",
       "108. 713\n",
       "109. 715\n",
       "110. 716\n",
       "111. 723\n",
       "112. 726\n",
       "113. 728\n",
       "114. 733\n",
       "115. 737\n",
       "116. 740\n",
       "117. 742\n",
       "118. 745\n",
       "119. 747\n",
       "120. 752\n",
       "121. 757\n",
       "122. 760\n",
       "123. 762\n",
       "124. 770\n",
       "125. 771\n",
       "126. 773\n",
       "127. 781\n",
       "128. 792\n",
       "129. 794\n",
       "130. 801\n",
       "131. 805\n",
       "132. 806\n",
       "133. 812\n",
       "134. 814\n",
       "135. 818\n",
       "136. 819\n",
       "137. 825\n",
       "138. 828\n",
       "139. 830\n",
       "140. 833\n",
       "141. 847\n",
       "142. 858\n",
       "143. 863\n",
       "144. 864\n",
       "145. 882\n",
       "146. 885\n",
       "147. 890\n",
       "148. 891\n",
       "149. 899\n",
       "150. 900\n",
       "151. 908\n",
       "152. 909\n",
       "153. 915\n",
       "154. 916\n",
       "155. 922\n",
       "156. 923\n",
       "157. 925\n",
       "158. 926\n",
       "159. 929\n",
       "160. 930\n",
       "161. 932\n",
       "162. 935\n",
       "163. 937\n",
       "164. 939\n",
       "165. 943\n",
       "166. 947\n",
       "167. 956\n",
       "168. 960\n",
       "169. 963\n",
       "170. 967\n",
       "171. 969\n",
       "172. 980\n",
       "173. 984\n",
       "174. 987\n",
       "175. 988\n",
       "176. 992\n",
       "177. 997\n",
       "178. 998\n",
       "179. 1000\n",
       "180. 1002\n",
       "181. 1004\n",
       "182. 1005\n",
       "183. 1025\n",
       "184. 1029\n",
       "185. 1033\n",
       "186. 1040\n",
       "187. 1042\n",
       "188. 1043\n",
       "189. 1044\n",
       "190. 1049\n",
       "191. 1051\n",
       "192. 1053\n",
       "193. 1060\n",
       "194. 1061\n",
       "195. 1063\n",
       "196. 1069\n",
       "197. 1072\n",
       "198. 1075\n",
       "199. 1080\n",
       "200. 1081\n",
       "201. 1084\n",
       "202. 1088\n",
       "203. 1090\n",
       "204. 1094\n",
       "205. 1095\n",
       "206. 1100\n",
       "207. 1104\n",
       "208. 1106\n",
       "209. 1110\n",
       "210. 1112\n",
       "211. 1114\n",
       "212. 1118\n",
       "213. 1121\n",
       "214. 1122\n",
       "215. 1127\n",
       "216. 1132\n",
       "217. 1133\n",
       "218. 1134\n",
       "219. 1135\n",
       "220. 1137\n",
       "221. 1139\n",
       "222. 1146\n",
       "223. 1148\n",
       "224. 1149\n",
       "225. 1162\n",
       "226. 1167\n",
       "227. 1168\n",
       "228. 1172\n",
       "229. 1174\n",
       "230. 1175\n",
       "231. 1178\n",
       "232. 1180\n",
       "233. 1182\n",
       "234. 1198\n",
       "235. 1200\n",
       "236. 1208\n",
       "237. 1209\n",
       "238. 1210\n",
       "239. 1213\n",
       "240. 1220\n",
       "241. 1222\n",
       "242. 1224\n",
       "243. 1229\n",
       "244. 1230\n",
       "245. 1233\n",
       "246. 1234\n",
       "247. 1240\n",
       "248. 1241\n",
       "249. 1242\n",
       "250. 1243\n",
       "251. 1244\n",
       "252. 1245\n",
       "253. 1246\n",
       "254. 1247\n",
       "255. 1248\n",
       "256. 1252\n",
       "257. 1253\n",
       "258. 1254\n",
       "259. 1255\n",
       "260. 1258\n",
       "261. 1259\n",
       "262. 1263\n",
       "263. 1264\n",
       "264. 1266\n",
       "265. 1267\n",
       "266. 1268\n",
       "267. 1270\n",
       "268. 1271\n",
       "269. 1272\n",
       "270. 1274\n",
       "271. 1277\n",
       "272. 1281\n",
       "273. 1283\n",
       "274. 1284\n",
       "275. 1289\n",
       "276. 1290\n",
       "277. 1293\n",
       "278. 1296\n",
       "279. 1298\n",
       "280. 1310\n",
       "281. 1317\n",
       "282. 1318\n",
       "283. 1319\n",
       "284. 1320\n",
       "285. 1321\n",
       "286. 1322\n",
       "287. 1325\n",
       "288. 1332\n",
       "289. 1336\n",
       "290. 1344\n",
       "291. 1345\n",
       "292. 1346\n",
       "293. 1347\n",
       "294. 1348\n",
       "295. 1349\n",
       "296. 1356\n",
       "297. 1359\n",
       "298. 1361\n",
       "299. 1364\n",
       "300. 1366\n",
       "301. 1370\n",
       "302. 1373\n",
       "303. 1374\n",
       "304. 1375\n",
       "305. 1383\n",
       "306. 1384\n",
       "307. 1388\n",
       "308. 1390\n",
       "309. 1398\n",
       "310. 1402\n",
       "311. 1404\n",
       "312. 1406\n",
       "313. 1411\n",
       "314. 1412\n",
       "315. 1417\n",
       "316. 1422\n",
       "317. 1424\n",
       "318. 1426\n",
       "319. 1434\n",
       "320. 1435\n",
       "321. 1437\n",
       "322. 1439\n",
       "323. 1440\n",
       "324. 1443\n",
       "325. 1444\n",
       "326. 1445\n",
       "327. 1446\n",
       "328. 1447\n",
       "329. 1451\n",
       "330. 1452\n",
       "331. 1455\n",
       "332. 1456\n",
       "333. 1459\n",
       "334. 1460\n",
       "335. 1462\n",
       "336. 1478\n",
       "337. 1479\n",
       "338. 1480\n",
       "339. 1482\n",
       "340. 1487\n",
       "341. 1490\n",
       "342. 1492\n",
       "343. 1494\n",
       "344. 1496\n",
       "345. 1499\n",
       "346. 1500\n",
       "347. 1502\n",
       "348. 1511\n",
       "349. 1513\n",
       "350. 1514\n",
       "351. 1515\n",
       "352. 1518\n",
       "353. 1519\n",
       "354. 1521\n",
       "355. 1523\n",
       "356. 1527\n",
       "357. 1529\n",
       "358. 1531\n",
       "359. 1537\n",
       "360. 1541\n",
       "361. 1544\n",
       "362. 1545\n",
       "363. 1547\n",
       "364. 1548\n",
       "365. 1552\n",
       "366. 1554\n",
       "367. 1557\n",
       "368. 1560\n",
       "369. 1563\n",
       "370. 1567\n",
       "371. 1570\n",
       "372. 1572\n",
       "\n",
       "\n"
      ],
      "text/plain": [
       "  [1]   63   68   92   96   99  123  141  154  163  180  193  204  212  227  228\n",
       " [16]  267  268  274  288  297  302  310  312  315  317  333  341  342  344  355\n",
       " [31]  358  363  364  380  386  407  412  415  416  420  421  424  429  436  443\n",
       " [46]  445  448  455  459  465  466  483  484  489  491  497  498  505  506  515\n",
       " [61]  519  520  528  533  547  552  555  556  562  569  570  571  572  574  576\n",
       " [76]  577  581  582  598  599  619  621  633  634  639  640  650  653  655  656\n",
       " [91]  660  671  677  679  680  681  682  684  685  687  688  689  690  699  701\n",
       "[106]  702  708  713  715  716  723  726  728  733  737  740  742  745  747  752\n",
       "[121]  757  760  762  770  771  773  781  792  794  801  805  806  812  814  818\n",
       "[136]  819  825  828  830  833  847  858  863  864  882  885  890  891  899  900\n",
       "[151]  908  909  915  916  922  923  925  926  929  930  932  935  937  939  943\n",
       "[166]  947  956  960  963  967  969  980  984  987  988  992  997  998 1000 1002\n",
       "[181] 1004 1005 1025 1029 1033 1040 1042 1043 1044 1049 1051 1053 1060 1061 1063\n",
       "[196] 1069 1072 1075 1080 1081 1084 1088 1090 1094 1095 1100 1104 1106 1110 1112\n",
       "[211] 1114 1118 1121 1122 1127 1132 1133 1134 1135 1137 1139 1146 1148 1149 1162\n",
       "[226] 1167 1168 1172 1174 1175 1178 1180 1182 1198 1200 1208 1209 1210 1213 1220\n",
       "[241] 1222 1224 1229 1230 1233 1234 1240 1241 1242 1243 1244 1245 1246 1247 1248\n",
       "[256] 1252 1253 1254 1255 1258 1259 1263 1264 1266 1267 1268 1270 1271 1272 1274\n",
       "[271] 1277 1281 1283 1284 1289 1290 1293 1296 1298 1310 1317 1318 1319 1320 1321\n",
       "[286] 1322 1325 1332 1336 1344 1345 1346 1347 1348 1349 1356 1359 1361 1364 1366\n",
       "[301] 1370 1373 1374 1375 1383 1384 1388 1390 1398 1402 1404 1406 1411 1412 1417\n",
       "[316] 1422 1424 1426 1434 1435 1437 1439 1440 1443 1444 1445 1446 1447 1451 1452\n",
       "[331] 1455 1456 1459 1460 1462 1478 1479 1480 1482 1487 1490 1492 1494 1496 1499\n",
       "[346] 1500 1502 1511 1513 1514 1515 1518 1519 1521 1523 1527 1529 1531 1537 1541\n",
       "[361] 1544 1545 1547 1548 1552 1554 1557 1560 1563 1567 1570 1572"
      ]
     },
     "metadata": {},
     "output_type": "display_data"
    }
   ],
   "source": [
    "duplicati<-as.matrix(duplicated(data$title)*1)\n",
    "numbermatch=list()\n",
    "count=0\n",
    "for (i in 1:length(duplicati)){\n",
    "  if (duplicati[i]==1){\n",
    "    count=count+1\n",
    "    numbermatch[count]=i\n",
    "  }\n",
    "  \n",
    "}\n",
    "     \n",
    "numbermatch<-c(unlist(numbermatch)) #I create the a vector with the rows who present some duplicates\n",
    "\n",
    "cat(\"Title duplicates are present in the dataset rows:\")\n",
    "numbermatch"
   ]
  },
  {
   "cell_type": "code",
   "execution_count": 19,
   "metadata": {},
   "outputs": [
    {
     "name": "stdout",
     "output_type": "stream",
     "text": [
      "The number of matches is: NULL\n",
      "\n",
      "The code show that there are not duplicates in tile and merchant_id.\n",
      "Suggesting that there are merchants who sell more than one object in the dataset."
     ]
    }
   ],
   "source": [
    "matchid=list()\n",
    "count=0\n",
    "\n",
    "for (i in 1:length(numbermatch)){\n",
    "  match<-match(data[numbermatch[i],36],data$merchant_id)\n",
    "  \n",
    "  if (length(match)>=2){\n",
    "    count=count+1\n",
    "    matchid[count]=match\n",
    "  }\n",
    "}\n",
    "cat(\"The number of matches is: \")\n",
    "print(unlist(matchid))\n",
    "cat(\"\n",
    "The code show that there are not duplicates in tile and merchant_id.\n",
    "Suggesting that there are merchants who sell more than one object in the dataset.\")"
   ]
  },
  {
   "cell_type": "markdown",
   "metadata": {},
   "source": [
    "### Tags"
   ]
  },
  {
   "cell_type": "markdown",
   "metadata": {},
   "source": [
    "#### Creation of the number of tags variable"
   ]
  },
  {
   "cell_type": "code",
   "execution_count": 20,
   "metadata": {},
   "outputs": [
    {
     "name": "stdout",
     "output_type": "stream",
     "text": [
      "The correlation between the num_tags and units_sold variables is:"
     ]
    },
    {
     "data": {
      "text/html": [
       "0.0443911669267765"
      ],
      "text/latex": [
       "0.0443911669267765"
      ],
      "text/markdown": [
       "0.0443911669267765"
      ],
      "text/plain": [
       "[1] 0.04439117"
      ]
     },
     "metadata": {},
     "output_type": "display_data"
    }
   ],
   "source": [
    "data$tags<-tolower(data$tags)\n",
    "num_tags<-lengths(strsplit(data$tags,\" \"))\n",
    "data$num_tags<-num_tags\n",
    "cat(\"The correlation between the num_tags and units_sold variables is:\")\n",
    "cor(data$num_tags,data$units_sold) #low correlation \n"
   ]
  },
  {
   "cell_type": "markdown",
   "metadata": {},
   "source": [
    "#### Creation of the most used tag"
   ]
  },
  {
   "cell_type": "code",
   "execution_count": 21,
   "metadata": {},
   "outputs": [
    {
     "name": "stdout",
     "output_type": "stream",
     "text": [
      "             [,1]\n",
      "#crop           7\n",
      "#fashion        4\n",
      "#shorts         1\n",
      "#sport          2\n",
      "#summer         1\n",
      "#top            7\n",
      "#tshirt         3\n",
      "&             168\n",
      "2               2\n",
      "2014menshort    1\n"
     ]
    }
   ],
   "source": [
    "tags<-unlist(strsplit(data$tags,\" \"))\n",
    "tags<-unlist(strsplit(tags,\",\"))\n",
    "tags<-as.matrix(table(tags))\n",
    "print(head(tags,10))"
   ]
  },
  {
   "cell_type": "code",
   "execution_count": 22,
   "metadata": {},
   "outputs": [
    {
     "data": {
      "text/plain": [
       "       V1         \n",
       " Min.   :   1.00  \n",
       " 1st Qu.:   1.00  \n",
       " Median :   1.00  \n",
       " Mean   :  17.98  \n",
       " 3rd Qu.:   3.00  \n",
       " Max.   :2810.00  "
      ]
     },
     "metadata": {},
     "output_type": "display_data"
    }
   ],
   "source": [
    "summary(tags)"
   ]
  },
  {
   "cell_type": "code",
   "execution_count": 23,
   "metadata": {},
   "outputs": [
    {
     "name": "stdout",
     "output_type": "stream",
     "text": [
      "        [,1]\n",
      "beach    593\n",
      "casual  1221\n",
      "cotton   313\n",
      "dress   2721\n",
      "dresses  326\n",
      "fashion 2810\n",
      "floral   333\n",
      "loose    341\n",
      "mini     343\n",
      "pants    496\n",
      "\n",
      "With this code, I wanted to reduce the tags vector created focusing on the most used tags.\n",
      "\n",
      "The number of these tags is: 27"
     ]
    }
   ],
   "source": [
    "tags<-ifelse(tags<=300,NA,tags)\n",
    "tagsOVER<-na.omit(tags)\n",
    "tagsOVER<-unique(tagsOVER)\n",
    "print(head(tagsOVER,10))\n",
    "\n",
    "cat(\"\n",
    "With this code, I wanted to reduce the tags vector created focusing on the most used tags.\n",
    "\n",
    "The number of these tags is: \")\n",
    "cat(length(tagsOVER))"
   ]
  },
  {
   "cell_type": "code",
   "execution_count": 24,
   "metadata": {},
   "outputs": [
    {
     "name": "stdout",
     "output_type": "stream",
     "text": [
      "With this code, I've found the most used tags in the dataset, which is: fashion"
     ]
    }
   ],
   "source": [
    "detect<-row.names(tagsOVER)[which.max(tagsOVER)]\n",
    "\n",
    "cat(\"With this code, I've found the most used tags in the dataset, which is: \")\n",
    "cat(detect)"
   ]
  },
  {
   "cell_type": "code",
   "execution_count": 25,
   "metadata": {},
   "outputs": [
    {
     "name": "stdout",
     "output_type": "stream",
     "text": [
      "I create a dummy variable to understand if the presence of the most used tag could be relevant to increase the units_sold"
     ]
    }
   ],
   "source": [
    "tag_most_used<-as.factor(str_detect(data$tags, detect)*1)\n",
    "data$tag_most_used<-tag_most_used\n",
    "\n",
    "cat(\"I create a dummy variable to understand if the presence of the most used tag could be relevant to increase the units_sold\")"
   ]
  },
  {
   "cell_type": "markdown",
   "metadata": {},
   "source": [
    "### Total Inventory"
   ]
  },
  {
   "cell_type": "markdown",
   "metadata": {},
   "source": [
    "#### I want to analyse the variable inventory_total. And I have find out that this variable is not very useful."
   ]
  },
  {
   "cell_type": "code",
   "execution_count": 26,
   "metadata": {},
   "outputs": [
    {
     "data": {
      "text/plain": [
       "\n",
       "   1    2    9   24   30   36   37   38   40   50 \n",
       "   1    2    1    1    1    1    1    1    1 1563 "
      ]
     },
     "metadata": {},
     "output_type": "display_data"
    },
    {
     "name": "stdout",
     "output_type": "stream",
     "text": [
      "Basically 0.9936427 percent of the observations are equal to 50."
     ]
    },
    {
     "data": {
      "text/html": [],
      "text/latex": [],
      "text/markdown": [],
      "text/plain": [
       "character(0)"
      ]
     },
     "metadata": {},
     "output_type": "display_data"
    }
   ],
   "source": [
    "table(data$inventory_total) \n",
    "paste0(cat(\"Basically \"),cat(1563/length(data$inventory_total)), cat(\" percent of the observations are equal to 50.\"))"
   ]
  },
  {
   "cell_type": "markdown",
   "metadata": {},
   "source": [
    "### Merchant Profile picture"
   ]
  },
  {
   "cell_type": "markdown",
   "metadata": {},
   "source": [
    "#### I'll analyse the merchant_has_profile_picture column."
   ]
  },
  {
   "cell_type": "code",
   "execution_count": 27,
   "metadata": {},
   "outputs": [
    {
     "data": {
      "text/plain": [
       "\n",
       "   0    1 \n",
       "1347  226 "
      ]
     },
     "metadata": {},
     "output_type": "display_data"
    },
    {
     "name": "stdout",
     "output_type": "stream",
     "text": [
      "The table shows that the variable should be considered as a factorAdditionally, the importance of the variable is given by the high correlation, which is equal to: 0.1435291"
     ]
    },
    {
     "data": {
      "text/html": [],
      "text/latex": [],
      "text/markdown": [],
      "text/plain": [
       "character(0)"
      ]
     },
     "metadata": {},
     "output_type": "display_data"
    }
   ],
   "source": [
    "table(data$merchant_has_profile_picture)\n",
    "cat(\"The table shows that the variable should be considered as a factor\")\n",
    "\n",
    "paste0(cat(\"Additionally, the importance of the variable is given by the high correlation, which is equal to: \"),cat(cor(data$merchant_has_profile_picture,data$units_sold))) #interesting correlation "
   ]
  },
  {
   "cell_type": "code",
   "execution_count": 28,
   "metadata": {},
   "outputs": [],
   "source": [
    "data$merchant_has_profile_picture<-as.factor(data$merchant_has_profile_picture)"
   ]
  },
  {
   "cell_type": "markdown",
   "metadata": {},
   "source": [
    "### Color "
   ]
  },
  {
   "cell_type": "markdown",
   "metadata": {},
   "source": [
    "#### I'll analyse the color column with the intent to find some color which may increase the variable units_sold."
   ]
  },
  {
   "cell_type": "markdown",
   "metadata": {},
   "source": [
    "First of all, since I'm considering chr data, I have to be sure to remove Caps Lock."
   ]
  },
  {
   "cell_type": "code",
   "execution_count": 30,
   "metadata": {},
   "outputs": [
    {
     "data": {
      "text/plain": [
       "\n",
       "                             applegreen             apricot                army \n",
       "                 41                   2                   2                   1 \n",
       "         army green           armygreen               beige               black \n",
       "                  3                  31                  14                 305 \n",
       "       black & blue       black & green      black & stripe       black & white \n",
       "                  2                   4                   1                   3 \n",
       "     black & yellow          blackwhite                blue         blue & pink \n",
       "                  2                   1                 100                   1 \n",
       "              brown      brown & yellow            burgundy               camel \n",
       "                  7                   1                   2                   2 \n",
       "         camouflage              claret              coffee           coolblack \n",
       "                  3                   1                   7                   2 \n",
       "           coralred            darkblue           darkgreen           denimblue \n",
       "                  2                   6                   1                   1 \n",
       "          dustypink              floral    fluorescentgreen                gold \n",
       "                  2                   5                   4                   1 \n",
       "               gray        gray & white               green                grey \n",
       "                 11                   1                  90                  71 \n",
       " greysnakeskinprint               ivory              jasper               khaki \n",
       "                  1                   1                   1                  12 \n",
       "           lakeblue             leopard        leopardprint         light green \n",
       "                  2                   4                   1                   1 \n",
       "          lightblue           lightgray          lightgreen           lightgrey \n",
       "                 12                   1                   3                   1 \n",
       "         lightkhaki           lightpink         lightpurple            lightred \n",
       "                  1                   4                   1                   2 \n",
       "        lightyellow           mintgreen          multicolor                navy \n",
       "                  2                   2                  20                   4 \n",
       "          navy blue            navyblue    navyblue & white                nude \n",
       "                  2                  28                   1                   1 \n",
       "           offblack            offwhite              orange          orange-red \n",
       "                  1                   1                  27                   3 \n",
       "orange & camouflage                pink        pink & black         pink & blue \n",
       "                  1                 101                   2                   2 \n",
       "        pink & grey        pink & white        prussianblue              purple \n",
       "                  2                   2                   1                  53 \n",
       "            rainbow                 red          red & blue                rose \n",
       "                  1                  94                   1                   5 \n",
       "           rose red            rosegold             rosered              silver \n",
       "                  1                   1                   8                   2 \n",
       "            skyblue                star                 tan              violet \n",
       "                  8                   1                   1                   1 \n",
       "      watermelonred               white       white & black       white & green \n",
       "                  2                 257                   2                  10 \n",
       "        white & red         whitefloral         whitestripe                wine \n",
       "                  1                   2                   1                   2 \n",
       "           wine red             winered    winered & yellow              yellow \n",
       "                  1                  28                   1                 105 "
      ]
     },
     "metadata": {},
     "output_type": "display_data"
    }
   ],
   "source": [
    "data$product_color<-tolower(data$product_color)\n",
    "table(data$product_color)\n",
    "tablecol<-as.matrix(table(data$product_color))"
   ]
  },
  {
   "cell_type": "code",
   "execution_count": 33,
   "metadata": {},
   "outputs": [
    {
     "name": "stdout",
     "output_type": "stream",
     "text": [
      "The code detect which color is the mose used in the dataset. In this case, the color is black"
     ]
    },
    {
     "data": {
      "text/html": [],
      "text/latex": [],
      "text/markdown": [],
      "text/plain": [
       "character(0)"
      ]
     },
     "metadata": {},
     "output_type": "display_data"
    }
   ],
   "source": [
    "detect<-row.names(tablecol)[which.max(tablecol)]\n",
    "paste0(cat(\"The code detect which color is the mose used in the dataset. In this case, the color is \"),cat(detect))"
   ]
  },
  {
   "cell_type": "code",
   "execution_count": 34,
   "metadata": {},
   "outputs": [
    {
     "data": {
      "text/html": [
       "325"
      ],
      "text/latex": [
       "325"
      ],
      "text/markdown": [
       "325"
      ],
      "text/plain": [
       "[1] 325"
      ]
     },
     "metadata": {},
     "output_type": "display_data"
    },
    {
     "data": {
      "text/html": [
       "325"
      ],
      "text/latex": [
       "325"
      ],
      "text/markdown": [
       "325"
      ],
      "text/plain": [
       "[1] 325"
      ]
     },
     "metadata": {},
     "output_type": "display_data"
    }
   ],
   "source": [
    "black<-c(str_which(row.names(tablecol), \"black\"))\n",
    "\n",
    "black<-as.data.frame(tablecol[black,1])\n",
    "sum(black)\n",
    "\n",
    "color_black<-ifelse(str_detect(data$product_color, \"black\"),1,0)\n",
    "sum(color_black) #Check that the code is able to recognize all the black color (also the mixed one)\n",
    "color_black<-as.numeric(color_black) #factorize the variable black"
   ]
  },
  {
   "cell_type": "code",
   "execution_count": 36,
   "metadata": {},
   "outputs": [
    {
     "data": {
      "text/html": [
       "0.0486297345055766"
      ],
      "text/latex": [
       "0.0486297345055766"
      ],
      "text/markdown": [
       "0.0486297345055766"
      ],
      "text/plain": [
       "[1] 0.04862973"
      ]
     },
     "metadata": {},
     "output_type": "display_data"
    }
   ],
   "source": [
    "cor(color_black,data$units_sold)"
   ]
  },
  {
   "cell_type": "code",
   "execution_count": 37,
   "metadata": {},
   "outputs": [
    {
     "data": {
      "text/plain": [
       "   Min. 1st Qu.  Median    Mean 3rd Qu.    Max. \n",
       "      1     100    1000    4339    5000  100000 "
      ]
     },
     "metadata": {},
     "output_type": "display_data"
    }
   ],
   "source": [
    "summary(data$units_sold)"
   ]
  },
  {
   "cell_type": "markdown",
   "metadata": {},
   "source": [
    "### SIZE"
   ]
  },
  {
   "cell_type": "code",
   "execution_count": 40,
   "metadata": {},
   "outputs": [],
   "source": [
    "data$product_variation_size_id<-tolower(data$product_variation_size_id)\n",
    "data$product_variation_size_id<-gsub(pattern='.',replacement='',\n",
    "                                          x=data$product_variation_size_id,fixed=TRUE)"
   ]
  },
  {
   "cell_type": "code",
   "execution_count": 45,
   "metadata": {},
   "outputs": [],
   "source": [
    "data$product_variation_size_id = gsub(pattern='(size-*)|(size)',replacement='',\n",
    "                                          x=data$product_variation_size_id)\n",
    "data$product_variation_size_id = gsub(pattern='.+[-]',replacement='',\n",
    "                                          x=data$product_variation_size_id)\n",
    "data$product_variation_size_id = ifelse(grepl(pattern='xl',data$product_variation_size_id),\n",
    "                                            'xl',data$product_variation_size_id)\n",
    "data$product_variation_size_id = ifelse(grepl(pattern='xs',data$product_variation_size_id),\n",
    "                                            'xs',data$product_variation_size_id)\n",
    "\n",
    "data$product_variation_size_id = str_replace(data$product_variation_size_id,' ','')\n",
    "\n",
    "data$product_variation_size_id = ifelse(data$product_variation_size_id %in% c('s','xs','m','l','xl'),\n",
    "                                            data$product_variation_size_id,'NotClear')"
   ]
  },
  {
   "cell_type": "code",
   "execution_count": 46,
   "metadata": {},
   "outputs": [
    {
     "data": {
      "text/plain": [
       "\n",
       "       l        m NotClear        s       xl       xs \n",
       "      54      206       90      684       57      482 "
      ]
     },
     "metadata": {},
     "output_type": "display_data"
    }
   ],
   "source": [
    "table(data$product_variation_size_id)"
   ]
  },
  {
   "cell_type": "code",
   "execution_count": null,
   "metadata": {},
   "outputs": [],
   "source": [
    "factor"
   ]
  }
 ],
 "metadata": {
  "kernelspec": {
   "display_name": "R",
   "language": "R",
   "name": "ir"
  },
  "language_info": {
   "codemirror_mode": "r",
   "file_extension": ".r",
   "mimetype": "text/x-r-source",
   "name": "R",
   "pygments_lexer": "r",
   "version": "3.6.1"
  }
 },
 "nbformat": 4,
 "nbformat_minor": 4
}
